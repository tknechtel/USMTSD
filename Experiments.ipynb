{
  "nbformat": 4,
  "nbformat_minor": 0,
  "metadata": {
    "colab": {
      "provenance": [],
      "collapsed_sections": [
        "4F3cpQpgLLqd",
        "C_LyzzaLLY-Z"
      ],
      "machine_shape": "hm",
      "authorship_tag": "ABX9TyNrVqxWK71Zx9u/T3QhJ8Te",
      "include_colab_link": true
    },
    "kernelspec": {
      "name": "python3",
      "display_name": "Python 3"
    },
    "language_info": {
      "name": "python"
    }
  },
  "cells": [
    {
      "cell_type": "markdown",
      "metadata": {
        "id": "view-in-github",
        "colab_type": "text"
      },
      "source": [
        "<a href=\"https://colab.research.google.com/github/tknechtel/TSS_time_series_segmentation/blob/main/Experiments.ipynb\" target=\"_parent\"><img src=\"https://colab.research.google.com/assets/colab-badge.svg\" alt=\"Open In Colab\"/></a>"
      ]
    },
    {
      "cell_type": "code",
      "execution_count": null,
      "metadata": {
        "colab": {
          "base_uri": "https://localhost:8080/"
        },
        "id": "I-Dvso0-ZFs8",
        "outputId": "3cefd58c-47cd-45c1-8b36-e49e9ab4637c"
      },
      "outputs": [
        {
          "output_type": "stream",
          "name": "stdout",
          "text": [
            "Mounted at /content/drive\n"
          ]
        }
      ],
      "source": [
        "from google.colab import drive\n",
        "drive.mount('/content/drive')"
      ]
    },
    {
      "cell_type": "code",
      "source": [
        "%cd  /content/drive/MyDrive/Masterarbeit/Thesis/Code"
      ],
      "metadata": {
        "id": "raBmSeTRZNxm",
        "colab": {
          "base_uri": "https://localhost:8080/"
        },
        "outputId": "cf43569d-e2de-4c5b-f0d6-6b85d23ab6cb"
      },
      "execution_count": null,
      "outputs": [
        {
          "output_type": "stream",
          "name": "stdout",
          "text": [
            "/content/drive/MyDrive/Masterarbeit/Thesis/Code\n"
          ]
        }
      ]
    },
    {
      "cell_type": "code",
      "source": [
        "# ! git clone https://github.com/..."
      ],
      "metadata": {
        "id": "9-K1P68mZT_Z"
      },
      "execution_count": null,
      "outputs": []
    },
    {
      "cell_type": "markdown",
      "source": [
        "# Packages"
      ],
      "metadata": {
        "id": "ZsFdsbyeXFt9"
      }
    },
    {
      "cell_type": "code",
      "metadata": {
        "id": "6GGDazCzObas",
        "colab": {
          "base_uri": "https://localhost:8080/"
        },
        "outputId": "ce3cc5b0-272b-44bf-804c-ad5f10fe3ce2"
      },
      "source": [
        "#requirements\n",
        "#!pip install -r \"/content/drive/MyDrive/Masterarbeit/requirements.txt\"\n",
        "! pip install stumpy\n",
        "!pip install hmmlearn\n",
        "!pip install imgaug==0.2.7\n",
        "!pip install SciencePlots"
      ],
      "execution_count": null,
      "outputs": [
        {
          "output_type": "stream",
          "name": "stdout",
          "text": [
            "Looking in indexes: https://pypi.org/simple, https://us-python.pkg.dev/colab-wheels/public/simple/\n",
            "Collecting stumpy\n",
            "  Downloading stumpy-1.11.1-py3-none-any.whl (136 kB)\n",
            "\u001b[K     |████████████████████████████████| 136 kB 12.3 MB/s \n",
            "\u001b[?25hRequirement already satisfied: numpy>=1.17 in /usr/local/lib/python3.7/dist-packages (from stumpy) (1.21.6)\n",
            "Collecting numba>=0.54\n",
            "  Downloading numba-0.55.2-cp37-cp37m-manylinux2014_x86_64.manylinux_2_17_x86_64.whl (3.3 MB)\n",
            "\u001b[K     |████████████████████████████████| 3.3 MB 47.7 MB/s \n",
            "\u001b[?25hRequirement already satisfied: scipy>=1.5 in /usr/local/lib/python3.7/dist-packages (from stumpy) (1.7.3)\n",
            "Collecting llvmlite<0.39,>=0.38.0rc1\n",
            "  Downloading llvmlite-0.38.1-cp37-cp37m-manylinux_2_17_x86_64.manylinux2014_x86_64.whl (34.5 MB)\n",
            "\u001b[K     |████████████████████████████████| 34.5 MB 1.3 MB/s \n",
            "\u001b[?25hRequirement already satisfied: setuptools in /usr/local/lib/python3.7/dist-packages (from numba>=0.54->stumpy) (57.4.0)\n",
            "Installing collected packages: llvmlite, numba, stumpy\n",
            "  Attempting uninstall: llvmlite\n",
            "    Found existing installation: llvmlite 0.34.0\n",
            "    Uninstalling llvmlite-0.34.0:\n",
            "      Successfully uninstalled llvmlite-0.34.0\n",
            "  Attempting uninstall: numba\n",
            "    Found existing installation: numba 0.51.2\n",
            "    Uninstalling numba-0.51.2:\n",
            "      Successfully uninstalled numba-0.51.2\n",
            "Successfully installed llvmlite-0.38.1 numba-0.55.2 stumpy-1.11.1\n",
            "Looking in indexes: https://pypi.org/simple, https://us-python.pkg.dev/colab-wheels/public/simple/\n",
            "Collecting hmmlearn\n",
            "  Downloading hmmlearn-0.2.7-cp37-cp37m-manylinux_2_12_x86_64.manylinux2010_x86_64.whl (129 kB)\n",
            "\u001b[K     |████████████████████████████████| 129 kB 14.6 MB/s \n",
            "\u001b[?25hRequirement already satisfied: numpy>=1.10 in /usr/local/lib/python3.7/dist-packages (from hmmlearn) (1.21.6)\n",
            "Requirement already satisfied: scipy>=0.19 in /usr/local/lib/python3.7/dist-packages (from hmmlearn) (1.7.3)\n",
            "Requirement already satisfied: scikit-learn>=0.16 in /usr/local/lib/python3.7/dist-packages (from hmmlearn) (1.0.2)\n",
            "Requirement already satisfied: joblib>=0.11 in /usr/local/lib/python3.7/dist-packages (from scikit-learn>=0.16->hmmlearn) (1.1.0)\n",
            "Requirement already satisfied: threadpoolctl>=2.0.0 in /usr/local/lib/python3.7/dist-packages (from scikit-learn>=0.16->hmmlearn) (3.1.0)\n",
            "Installing collected packages: hmmlearn\n",
            "Successfully installed hmmlearn-0.2.7\n",
            "Looking in indexes: https://pypi.org/simple, https://us-python.pkg.dev/colab-wheels/public/simple/\n",
            "Collecting imgaug==0.2.7\n",
            "  Downloading imgaug-0.2.7-py3-none-any.whl (644 kB)\n",
            "\u001b[K     |████████████████████████████████| 644 kB 14.6 MB/s \n",
            "\u001b[?25hRequirement already satisfied: scikit-image>=0.11.0 in /usr/local/lib/python3.7/dist-packages (from imgaug==0.2.7) (0.18.3)\n",
            "Requirement already satisfied: six in /usr/local/lib/python3.7/dist-packages (from imgaug==0.2.7) (1.15.0)\n",
            "Requirement already satisfied: Shapely in /usr/local/lib/python3.7/dist-packages (from imgaug==0.2.7) (1.8.2)\n",
            "Requirement already satisfied: matplotlib in /usr/local/lib/python3.7/dist-packages (from imgaug==0.2.7) (3.2.2)\n",
            "Requirement already satisfied: Pillow in /usr/local/lib/python3.7/dist-packages (from imgaug==0.2.7) (7.1.2)\n",
            "Requirement already satisfied: numpy>=1.7.0 in /usr/local/lib/python3.7/dist-packages (from imgaug==0.2.7) (1.21.6)\n",
            "Requirement already satisfied: scipy in /usr/local/lib/python3.7/dist-packages (from imgaug==0.2.7) (1.7.3)\n",
            "Requirement already satisfied: imageio in /usr/local/lib/python3.7/dist-packages (from imgaug==0.2.7) (2.4.1)\n",
            "Requirement already satisfied: PyWavelets>=1.1.1 in /usr/local/lib/python3.7/dist-packages (from scikit-image>=0.11.0->imgaug==0.2.7) (1.3.0)\n",
            "Requirement already satisfied: networkx>=2.0 in /usr/local/lib/python3.7/dist-packages (from scikit-image>=0.11.0->imgaug==0.2.7) (2.6.3)\n",
            "Requirement already satisfied: tifffile>=2019.7.26 in /usr/local/lib/python3.7/dist-packages (from scikit-image>=0.11.0->imgaug==0.2.7) (2021.11.2)\n",
            "Requirement already satisfied: cycler>=0.10 in /usr/local/lib/python3.7/dist-packages (from matplotlib->imgaug==0.2.7) (0.11.0)\n",
            "Requirement already satisfied: kiwisolver>=1.0.1 in /usr/local/lib/python3.7/dist-packages (from matplotlib->imgaug==0.2.7) (1.4.3)\n",
            "Requirement already satisfied: pyparsing!=2.0.4,!=2.1.2,!=2.1.6,>=2.0.1 in /usr/local/lib/python3.7/dist-packages (from matplotlib->imgaug==0.2.7) (3.0.9)\n",
            "Requirement already satisfied: python-dateutil>=2.1 in /usr/local/lib/python3.7/dist-packages (from matplotlib->imgaug==0.2.7) (2.8.2)\n",
            "Requirement already satisfied: typing-extensions in /usr/local/lib/python3.7/dist-packages (from kiwisolver>=1.0.1->matplotlib->imgaug==0.2.7) (4.1.1)\n",
            "Installing collected packages: imgaug\n",
            "  Attempting uninstall: imgaug\n",
            "    Found existing installation: imgaug 0.2.9\n",
            "    Uninstalling imgaug-0.2.9:\n",
            "      Successfully uninstalled imgaug-0.2.9\n",
            "\u001b[31mERROR: pip's dependency resolver does not currently take into account all the packages that are installed. This behaviour is the source of the following dependency conflicts.\n",
            "albumentations 0.1.12 requires imgaug<0.2.7,>=0.2.5, but you have imgaug 0.2.7 which is incompatible.\u001b[0m\n",
            "Successfully installed imgaug-0.2.7\n",
            "Looking in indexes: https://pypi.org/simple, https://us-python.pkg.dev/colab-wheels/public/simple/\n",
            "Collecting SciencePlots\n",
            "  Downloading SciencePlots-1.0.9.tar.gz (10 kB)\n",
            "  Installing build dependencies ... \u001b[?25l\u001b[?25hdone\n",
            "\u001b[33m  WARNING: Missing build requirements in pyproject.toml for SciencePlots from https://files.pythonhosted.org/packages/c2/44/7b5c0ecd6f2862671a076425546f86ac540bc48c1a618a82d6faa3b26f58/SciencePlots-1.0.9.tar.gz#sha256=2b002f263734a718acdf1e5be57f0de5ee887e70517dfbe1118a27d0ee3dfb0f.\u001b[0m\n",
            "\u001b[33m  WARNING: The project does not specify a build backend, and pip cannot fall back to setuptools without 'wheel'.\u001b[0m\n",
            "  Getting requirements to build wheel ... \u001b[?25l\u001b[?25hdone\n",
            "  Installing backend dependencies ... \u001b[?25l\u001b[?25hdone\n",
            "    Preparing wheel metadata ... \u001b[?25l\u001b[?25hdone\n",
            "Requirement already satisfied: matplotlib in /usr/local/lib/python3.7/dist-packages (from SciencePlots) (3.2.2)\n",
            "Requirement already satisfied: cycler>=0.10 in /usr/local/lib/python3.7/dist-packages (from matplotlib->SciencePlots) (0.11.0)\n",
            "Requirement already satisfied: kiwisolver>=1.0.1 in /usr/local/lib/python3.7/dist-packages (from matplotlib->SciencePlots) (1.4.3)\n",
            "Requirement already satisfied: python-dateutil>=2.1 in /usr/local/lib/python3.7/dist-packages (from matplotlib->SciencePlots) (2.8.2)\n",
            "Requirement already satisfied: numpy>=1.11 in /usr/local/lib/python3.7/dist-packages (from matplotlib->SciencePlots) (1.21.6)\n",
            "Requirement already satisfied: pyparsing!=2.0.4,!=2.1.2,!=2.1.6,>=2.0.1 in /usr/local/lib/python3.7/dist-packages (from matplotlib->SciencePlots) (3.0.9)\n",
            "Requirement already satisfied: typing-extensions in /usr/local/lib/python3.7/dist-packages (from kiwisolver>=1.0.1->matplotlib->SciencePlots) (4.1.1)\n",
            "Requirement already satisfied: six>=1.5 in /usr/local/lib/python3.7/dist-packages (from python-dateutil>=2.1->matplotlib->SciencePlots) (1.15.0)\n",
            "Building wheels for collected packages: SciencePlots\n",
            "  Building wheel for SciencePlots (PEP 517) ... \u001b[?25l\u001b[?25hdone\n",
            "  Created wheel for SciencePlots: filename=SciencePlots-1.0.9-py3-none-any.whl size=6484 sha256=cfeb81c0d91045b011f4121c72986782497e82a7c136df05378a3f0bb4dc5942\n",
            "  Stored in directory: /root/.cache/pip/wheels/37/f8/e9/b2f53a40b336388dfc57b108150daff7d6ffbbfc618dba3924\n",
            "Successfully built SciencePlots\n",
            "Installing collected packages: SciencePlots\n",
            "Successfully installed SciencePlots-1.0.9\n"
          ]
        }
      ]
    },
    {
      "cell_type": "code",
      "source": [
        "import getopt\n",
        "import os\n",
        "import platform\n",
        "import socket\n",
        "import sys\n",
        "import time\n",
        "from datetime import datetime\n",
        "import copy\n",
        "import pandas as pd\n",
        "import statistics as stat\n",
        "import numpy as np\n",
        "import stumpy\n",
        "from stumpy.floss import _cac\n",
        "import matplotlib.pyplot as plt\n",
        "from matplotlib.patches import Rectangle, FancyArrowPatch\n",
        "from matplotlib import animation\n",
        "from IPython.display import HTML\n",
        "import os\n",
        "from sklearn.preprocessing import StandardScaler\n",
        "from sklearn.preprocessing import MinMaxScaler\n",
        "\n",
        "plt.style.reload_library()\n",
        "plt.style.use([\"science\",\"no-latex\",\"nature\"])\n",
        "%matplotlib inline\n"
      ],
      "metadata": {
        "id": "7dKAs4v8bqjZ"
      },
      "execution_count": null,
      "outputs": []
    },
    {
      "cell_type": "code",
      "source": [
        "datapath = \"/content/drive/MyDrive/Masterarbeit/Thesis/Data/Datafinal/\"\n",
        "data_img =  \"/content/drive/MyDrive/Masterarbeit/Thesis/Data/Datafinal/IMG/\""
      ],
      "metadata": {
        "id": "SXhCguQyZdLV"
      },
      "execution_count": null,
      "outputs": []
    },
    {
      "cell_type": "markdown",
      "source": [
        "# load datasets variables"
      ],
      "metadata": {
        "id": "1g4oyCFYK6sA"
      }
    },
    {
      "cell_type": "code",
      "source": [
        "synthetic_data = np.genfromtxt( datapath + \"syn_1400_6_7.csv\", delimiter=',')\n",
        "synthetic_data = synthetic_data.T\n",
        "synthetic_data2 = np.genfromtxt(datapath + \"syn_1400_12_14.csv\", delimiter=',')\n",
        "synthetic_data2 = synthetic_data2.T\n",
        "chickendance1 = np.genfromtxt( datapath + \"Chicken19_60min_sample.csv\",skip_header=1, delimiter=',')\n",
        "chickendance2 = np.genfromtxt( datapath + \"Chicken21_60min_sample.csv\",skip_header=1, delimiter=',')\n",
        "blood_pig = np.genfromtxt( datapath + \"blood_pic.csv\",skip_header=1, delimiter=',')\n",
        "nilm1 =np.genfromtxt( datapath + \"nilm1_60min_sample.csv\",skip_header=1, delimiter=',')\n",
        "apple =np.genfromtxt( datapath + \"apple.csv\",skip_header=1, delimiter=',',usecols= range(1,3))\n",
        "bee =np.genfromtxt( datapath + \"bee.csv\",skip_header=0, delimiter=',',usecols= range(1,5))\n",
        "occ =np.genfromtxt( datapath + \"occ.csv\",skip_header=0, delimiter=',',usecols= range(1,5))\n",
        "occ2 =np.genfromtxt( datapath + \"occ.csv\",skip_header=0, delimiter=',',usecols= [1,3])"
      ],
      "metadata": {
        "id": "ywRNudT9vLCm"
      },
      "execution_count": null,
      "outputs": []
    },
    {
      "cell_type": "code",
      "source": [
        "print(synthetic_data.shape)\n",
        "print(synthetic_data2.shape)\n",
        "print(chickendance1.shape)\n",
        "print(chickendance2.shape)\n",
        "print(blood_pig.shape)\n",
        "print(apple.shape)\n",
        "print(bee.shape)\n",
        "print(occ.shape)\n",
        "print(occ2.shape)"
      ],
      "metadata": {
        "colab": {
          "base_uri": "https://localhost:8080/"
        },
        "id": "xMLGW5bRrqeu",
        "outputId": "4852d3e1-33ea-466d-9f76-7c3850b0d752"
      },
      "execution_count": null,
      "outputs": [
        {
          "output_type": "stream",
          "name": "stdout",
          "text": [
            "(1400, 6)\n",
            "(1400, 12)\n",
            "(1536, 4)\n",
            "(1285, 4)\n",
            "(14973, 3)\n",
            "(622, 2)\n",
            "(610, 4)\n",
            "(510, 4)\n",
            "(510, 2)\n"
          ]
        }
      ]
    },
    {
      "cell_type": "markdown",
      "source": [
        "# code algorithms"
      ],
      "metadata": {
        "id": "7SpLG8IGLGof"
      }
    },
    {
      "cell_type": "markdown",
      "source": [
        "## GGS"
      ],
      "metadata": {
        "id": "4F3cpQpgLLqd"
      }
    },
    {
      "cell_type": "code",
      "source": [
        "! python /content/drive/MyDrive/Masterarbeit/Thesis/Code/GGS/apple.py"
      ],
      "metadata": {
        "colab": {
          "base_uri": "https://localhost:8080/"
        },
        "id": "X9Ouwd8BDX4Y",
        "outputId": "2eb58b72-a7a0-4aa3-bb64-b67e3e951c59"
      },
      "execution_count": null,
      "outputs": [
        {
          "output_type": "stream",
          "name": "stdout",
          "text": [
            "[0, 131, 215, 245, 319, 321, 462, 538, 623]\n"
          ]
        }
      ]
    },
    {
      "cell_type": "code",
      "source": [
        "! python /content/drive/MyDrive/Masterarbeit/Thesis/Code/GGS/bee.py"
      ],
      "metadata": {
        "colab": {
          "base_uri": "https://localhost:8080/"
        },
        "id": "s1plgyNdXS3B",
        "outputId": "da4f81c0-832d-4094-b4a5-22b9a26cc8ce"
      },
      "execution_count": null,
      "outputs": [
        {
          "output_type": "stream",
          "name": "stdout",
          "text": [
            "[0, 221, 610]\n"
          ]
        }
      ]
    },
    {
      "cell_type": "code",
      "source": [
        "! python /content/drive/MyDrive/Masterarbeit/Thesis/Code/GGS/blood.py"
      ],
      "metadata": {
        "colab": {
          "base_uri": "https://localhost:8080/"
        },
        "id": "rY26GFdCXTCC",
        "outputId": "a1014948-3a39-4496-a076-a269b1c13ac9"
      },
      "execution_count": null,
      "outputs": [
        {
          "output_type": "stream",
          "name": "stdout",
          "text": [
            "[0, 7490, 14974]\n"
          ]
        }
      ]
    },
    {
      "cell_type": "code",
      "source": [
        "! python /content/drive/MyDrive/Masterarbeit/Thesis/Code/GGS/cd1.py"
      ],
      "metadata": {
        "colab": {
          "base_uri": "https://localhost:8080/"
        },
        "id": "PaVK-GdbXTRH",
        "outputId": "8c298c8e-e1a5-49b5-a5b1-6d97278e8e38"
      },
      "execution_count": null,
      "outputs": [
        {
          "output_type": "stream",
          "name": "stdout",
          "text": [
            "[0, 108, 314, 523, 773, 914, 1056, 1330, 1537]\n"
          ]
        }
      ]
    },
    {
      "cell_type": "code",
      "source": [
        "! python /content/drive/MyDrive/Masterarbeit/Thesis/Code/GGS/cd2.py"
      ],
      "metadata": {
        "colab": {
          "base_uri": "https://localhost:8080/"
        },
        "id": "vt0bN0LQXTYw",
        "outputId": "c2760de3-fce0-457a-e1b9-0bbbf135d641"
      },
      "execution_count": null,
      "outputs": [
        {
          "output_type": "stream",
          "name": "stdout",
          "text": [
            "[0, 189, 318, 513, 714, 823, 969, 1168, 1286]\n"
          ]
        }
      ]
    },
    {
      "cell_type": "code",
      "source": [
        "! python /content/drive/MyDrive/Masterarbeit/Thesis/Code/GGS/occ.py"
      ],
      "metadata": {
        "colab": {
          "base_uri": "https://localhost:8080/"
        },
        "id": "1i4EO7owXTdt",
        "outputId": "5fd0cd81-4331-4829-ced3-d20b6d0a6fa7"
      },
      "execution_count": null,
      "outputs": [
        {
          "output_type": "stream",
          "name": "stdout",
          "text": [
            "[0, 2, 52, 91, 142, 144, 181, 234, 262, 360, 416, 451, 506, 510]\n"
          ]
        }
      ]
    },
    {
      "cell_type": "code",
      "source": [
        "! python /content/drive/MyDrive/Masterarbeit/Thesis/Code/GGS/syn1.py"
      ],
      "metadata": {
        "colab": {
          "base_uri": "https://localhost:8080/"
        },
        "id": "50Eqsd4HXjwp",
        "outputId": "a7d039d1-b19a-4613-8fe3-a7ccc8acc6a0"
      },
      "execution_count": null,
      "outputs": [
        {
          "output_type": "stream",
          "name": "stdout",
          "text": [
            "[0, 2, 159, 439, 559, 639, 759, 1401]\n"
          ]
        }
      ]
    },
    {
      "cell_type": "code",
      "source": [
        "! python /content/drive/MyDrive/Masterarbeit/Thesis/Code/GGS/syn2.py"
      ],
      "metadata": {
        "colab": {
          "base_uri": "https://localhost:8080/"
        },
        "id": "vu5SoRwiXjz_",
        "outputId": "f174ac9e-cbe8-4d26-ff93-b9d9a2f67c07"
      },
      "execution_count": null,
      "outputs": [
        {
          "output_type": "stream",
          "name": "stdout",
          "text": [
            "We are done adding breakpoints!\n",
            "[0, 2, 79, 279, 599, 679, 919, 1039, 1199, 1401]\n",
            "1401\n"
          ]
        }
      ]
    },
    {
      "cell_type": "markdown",
      "source": [
        "## IGTS DP"
      ],
      "metadata": {
        "id": "Kle16rY2LQS3"
      }
    },
    {
      "cell_type": "code",
      "source": [
        "! python /content/drive/MyDrive/Masterarbeit/Thesis/Code/IGTS-python/code/apple_dp.py"
      ],
      "metadata": {
        "colab": {
          "base_uri": "https://localhost:8080/"
        },
        "id": "XLDLgoXtJrz2",
        "outputId": "88bc632c-9f56-4303-9867-69570da2111b"
      },
      "execution_count": null,
      "outputs": [
        {
          "output_type": "stream",
          "name": "stdout",
          "text": [
            "0.7063712919999998\n",
            "54767224.4\n",
            "Dynamic Programming extracted TT >>> [ 52  56  88 129 200 239 317 365]\n"
          ]
        }
      ]
    },
    {
      "cell_type": "code",
      "source": [
        "! python /content/drive/MyDrive/Masterarbeit/Thesis/Code/IGTS-python/code/bee_dp.py"
      ],
      "metadata": {
        "colab": {
          "base_uri": "https://localhost:8080/"
        },
        "id": "zYa1pETjXyBv",
        "outputId": "5736e6ef-74b9-4a08-9bc2-c418822b3ef3"
      },
      "execution_count": null,
      "outputs": [
        {
          "output_type": "stream",
          "name": "stdout",
          "text": [
            "53.335582029607004\n",
            "38.553807396823025\n",
            "0.45523044096497284\n",
            "0.7260407011867361\n",
            "Dynamic Programming extracted TT >>> [185 213]\n"
          ]
        }
      ]
    },
    {
      "cell_type": "code",
      "source": [
        "! python /content/drive/MyDrive/Masterarbeit/Thesis/Code/IGTS-python/code/blood_dp.py"
      ],
      "metadata": {
        "colab": {
          "base_uri": "https://localhost:8080/"
        },
        "id": "xDn-UdPXXyIr",
        "outputId": "cdb6dfc9-fb7a-40ba-e8f9-986e33a700d7"
      },
      "execution_count": null,
      "outputs": [
        {
          "output_type": "stream",
          "name": "stdout",
          "text": [
            "61.167276000000406\n",
            "211.68310000000034\n",
            "249.45205227000068\n",
            "tcmalloc: large alloc 3587055616 bytes == 0x3d74000 @  0x7f83335a9001 0x7f8330f381af 0x7f8330f8ec23 0x7f8330f8fa87 0x7f8331031823 0x5936cc 0x548c51 0x51566f 0x593dd7 0x5118f8 0x549576 0x604173 0x5f5506 0x5f8c6c 0x5f9206 0x64faf2 0x64fc4e 0x7f83331a4c87 0x5b621a\n",
            "tcmalloc: large alloc 3587055616 bytes == 0xd9a56000 @  0x7f83335a71e7 0x7f8330f380ce 0x7f8330f92726 0x7f8331027841 0x59b076 0x515655 0x593dd7 0x5118f8 0x549576 0x604173 0x5f5506 0x5f8c6c 0x5f9206 0x64faf2 0x64fc4e 0x7f83331a4c87 0x5b621a\n",
            "Dynamic Programming extracted TT >>> [14250]\n"
          ]
        }
      ]
    },
    {
      "cell_type": "code",
      "source": [
        "! python  /content/drive/MyDrive/Masterarbeit/Thesis/Code/IGTS-python/code/cd1_dp.py"
      ],
      "metadata": {
        "colab": {
          "base_uri": "https://localhost:8080/"
        },
        "id": "EvD4osJFXyPn",
        "outputId": "d6269643-10bd-401f-ff89-67bded6710ca"
      },
      "execution_count": null,
      "outputs": [
        {
          "output_type": "stream",
          "name": "stdout",
          "text": [
            "48.18511113199997\n",
            "46.11917496500004\n",
            "139.534224138\n",
            "138.77580704900006\n",
            "Traceback (most recent call last):\n",
            "  File \"/content/drive/MyDrive/Masterarbeit/Thesis/Code/IGTS-python/code/cd1_dp.py\", line 22, in <module>\n",
            "\n"
          ]
        }
      ]
    },
    {
      "cell_type": "code",
      "source": [
        "! python /content/drive/MyDrive/Masterarbeit/Thesis/Code/IGTS-python/code/cd2_dp.py"
      ],
      "metadata": {
        "colab": {
          "base_uri": "https://localhost:8080/"
        },
        "id": "uVy7kC8eXyVY",
        "outputId": "b8c7f944-b0cf-4103-e66e-6c437d7e17d7"
      },
      "execution_count": null,
      "outputs": [
        {
          "output_type": "stream",
          "name": "stdout",
          "text": [
            "38.508603395999955\n",
            "39.557458337999954\n",
            "84.07486064899999\n",
            "91.04392481199996\n",
            "Dynamic Programming extracted TT >>> [ 190  338  493  708  829  976 1137]\n"
          ]
        }
      ]
    },
    {
      "cell_type": "code",
      "source": [
        "! python /content/drive/MyDrive/Masterarbeit/Thesis/Code/IGTS-python/code/occ_dp.py"
      ],
      "metadata": {
        "colab": {
          "base_uri": "https://localhost:8080/"
        },
        "id": "J70dlyJxXyab",
        "outputId": "a4d475a2-0538-46d6-c6d3-88fb5c3c1ec4"
      },
      "execution_count": null,
      "outputs": [
        {
          "output_type": "stream",
          "name": "stdout",
          "text": [
            "0.7987650000000005\n",
            "4.509105333333343\n",
            "61.12474999999999\n",
            "96.28824999999998\n",
            "Dynamic Programming extracted TT >>> [ 51  91 141 181 236 264 338 354 415 460 505]\n"
          ]
        }
      ]
    },
    {
      "cell_type": "code",
      "source": [
        "! python /content/drive/MyDrive/Masterarbeit/Thesis/Code/IGTS-python/code/syn1_dp.py"
      ],
      "metadata": {
        "colab": {
          "base_uri": "https://localhost:8080/"
        },
        "id": "6AWeexC8XygV",
        "outputId": "971ff0d5-2c42-460c-b297-05c3f5be83b8"
      },
      "execution_count": null,
      "outputs": [
        {
          "output_type": "stream",
          "name": "stdout",
          "text": [
            "1.4313574721748543\n",
            "1.2422531734050275\n",
            "1.972937190688406\n",
            "1.7776036959519388\n",
            "1.3417623719367182\n",
            "Dynamic Programming extracted TT >>> [158 437 518 558 637 678 757]\n"
          ]
        }
      ]
    },
    {
      "cell_type": "code",
      "source": [
        "! python /content/drive/MyDrive/Masterarbeit/Thesis/Code/IGTS-python/code/syn2_dp.py"
      ],
      "metadata": {
        "colab": {
          "base_uri": "https://localhost:8080/"
        },
        "id": "2zC996onXymo",
        "outputId": "7bea0f29-7795-4351-eaa9-53d565b906c2"
      },
      "execution_count": null,
      "outputs": [
        {
          "output_type": "stream",
          "name": "stdout",
          "text": [
            "2.1401888563649023\n",
            "2.253089448350165\n",
            "2.3843648852645476\n",
            "2.397540423671579\n",
            "2.2247440366202955\n",
            "2.02186118448134\n",
            "2.2448498321772017\n",
            "2.534204728688058\n",
            "1.6816142389379785\n",
            "2.478758353217511\n",
            "2.5777773217872655\n",
            "Dynamic Programming extracted TT >>> [  38   77  158  197  278  597  638  677  758  917  997 1038 1078 1197]\n"
          ]
        }
      ]
    },
    {
      "cell_type": "markdown",
      "source": [
        "## IGTS TD"
      ],
      "metadata": {
        "id": "C_LyzzaLLY-Z"
      }
    },
    {
      "cell_type": "code",
      "source": [
        "! python /content/drive/MyDrive/Masterarbeit/Thesis/Code/IGTS-python/code/apple_td.py"
      ],
      "metadata": {
        "colab": {
          "base_uri": "https://localhost:8080/"
        },
        "id": "yWlGkFKXJr9_",
        "outputId": "c206858f-11a9-4882-e109-c2a549a91e91"
      },
      "execution_count": null,
      "outputs": [
        {
          "output_type": "stream",
          "name": "stdout",
          "text": [
            "0.7063712919999998\n",
            "54767224.4\n",
            "TopDown extracted TT >>> (array([130, 322, 239, 318,  47, 365,  26,  55, 621]), array([0.        , 0.03051673, 0.04593603, 0.06119133, 0.06840648,\n",
            "       0.07280616, 0.07522752, 0.07762605, 0.07981375]), 3)\n"
          ]
        }
      ]
    },
    {
      "cell_type": "code",
      "source": [
        "! python /content/drive/MyDrive/Masterarbeit/Thesis/Code/IGTS-python/code/bee_td.py"
      ],
      "metadata": {
        "colab": {
          "base_uri": "https://localhost:8080/"
        },
        "id": "KOX0BmegYJ3N",
        "outputId": "bf88df3c-aed3-45d8-d554-b5b9f5c3334d"
      },
      "execution_count": null,
      "outputs": [
        {
          "output_type": "stream",
          "name": "stdout",
          "text": [
            "53.335582029607004\n",
            "38.553807396823025\n",
            "0.45523044096497284\n",
            "0.7260407011867361\n",
            "TopDown extracted TT >>> (array([176,  40, 608]), array([0.        , 0.02324085, 0.03122967]), 1)\n"
          ]
        }
      ]
    },
    {
      "cell_type": "code",
      "source": [
        "! python /content/drive/MyDrive/Masterarbeit/Thesis/Code/IGTS-python/code/blood_td.py"
      ],
      "metadata": {
        "colab": {
          "base_uri": "https://localhost:8080/"
        },
        "id": "BaEgcqR3YKAR",
        "outputId": "a78a7d22-46da-4d92-d5d5-23aeb6240a53"
      },
      "execution_count": null,
      "outputs": [
        {
          "output_type": "stream",
          "name": "stdout",
          "text": [
            "61.167276000000406\n",
            "211.68310000000034\n",
            "249.45205227000068\n",
            "TopDown extracted TT >>> (array([  500, 14972]), array([0.       , 0.0012961]), 0)\n"
          ]
        }
      ]
    },
    {
      "cell_type": "code",
      "source": [
        "! python /content/drive/MyDrive/Masterarbeit/Thesis/Code/IGTS-python/code/cd1_td.py"
      ],
      "metadata": {
        "colab": {
          "base_uri": "https://localhost:8080/"
        },
        "id": "bZZzvLxKYKEi",
        "outputId": "35f1d3e0-7311-4145-d822-658f0375694b"
      },
      "execution_count": null,
      "outputs": [
        {
          "output_type": "stream",
          "name": "stdout",
          "text": [
            "48.18511113199997\n",
            "46.11917496500004\n",
            "139.534224138\n",
            "138.77580704900006\n",
            "TopDown extracted TT >>> (array([1284, 1085,  523,  199,  347,  927,  784, 1535]), array([0.        , 0.02628889, 0.04855738, 0.08718726, 0.10924703,\n",
            "       0.12165949, 0.13097651, 0.14031009]), 4)\n"
          ]
        }
      ]
    },
    {
      "cell_type": "code",
      "source": [
        "! python /content/drive/MyDrive/Masterarbeit/Thesis/Code/IGTS-python/code/cd2_td.py"
      ],
      "metadata": {
        "colab": {
          "base_uri": "https://localhost:8080/"
        },
        "id": "qvxAOd7zYKIn",
        "outputId": "d43fbaa5-af6d-4bf5-b49e-58f29b6ce526"
      },
      "execution_count": null,
      "outputs": [
        {
          "output_type": "stream",
          "name": "stdout",
          "text": [
            "38.508603395999955\n",
            "39.557458337999954\n",
            "84.07486064899999\n",
            "91.04392481199996\n",
            "TopDown extracted TT >>> (array([1149,  984,  498,  339,  831,  191,  709, 1284]), array([0.        , 0.01938132, 0.04893238, 0.07827555, 0.10957114,\n",
            "       0.12354911, 0.13293692, 0.13687984]), 6)\n"
          ]
        }
      ]
    },
    {
      "cell_type": "code",
      "source": [
        "! python /content/drive/MyDrive/Masterarbeit/Thesis/Code/IGTS-python/code/occ_td.py"
      ],
      "metadata": {
        "colab": {
          "base_uri": "https://localhost:8080/"
        },
        "id": "QyQjcBoOYKNK",
        "outputId": "9ad44977-c0f0-40b9-ac85-29454b1d0750"
      },
      "execution_count": null,
      "outputs": [
        {
          "output_type": "stream",
          "name": "stdout",
          "text": [
            "0.7987650000000005\n",
            "4.509105333333343\n",
            "61.12474999999999\n",
            "96.28824999999998\n",
            "TopDown extracted TT >>> (array([271, 415, 183,  51, 460, 236,  90, 141, 505, 450, 359, 508]), array([0.        , 0.04116579, 0.11054612, 0.13589877, 0.16144029,\n",
            "       0.18264843, 0.20040692, 0.20875543, 0.24236163, 0.25031201,\n",
            "       0.2555301 , 0.25996869]), 8)\n"
          ]
        }
      ]
    },
    {
      "cell_type": "code",
      "source": [
        "! python /content/drive/MyDrive/Masterarbeit/Thesis/Code/IGTS-python/code/syn1_td.py"
      ],
      "metadata": {
        "colab": {
          "base_uri": "https://localhost:8080/"
        },
        "id": "tWzjiJL9YKRV",
        "outputId": "7d35023f-cc55-4277-b8c7-7df97d86427e"
      },
      "execution_count": null,
      "outputs": [
        {
          "output_type": "stream",
          "name": "stdout",
          "text": [
            "1.4313574721748543\n",
            "1.2422531734050275\n",
            "1.972937190688406\n",
            "1.7776036959519388\n",
            "1.3417623719367182\n",
            "TopDown extracted TT >>> (array([ 758,  158,  438,  518,  638,  558,  678, 1399]), array([0.        , 0.1773177 , 0.19789636, 0.20690929, 0.21251311,\n",
            "       0.2171189 , 0.22098515, 0.22468618]), 1)\n"
          ]
        }
      ]
    },
    {
      "cell_type": "code",
      "source": [
        "! python /content/drive/MyDrive/Masterarbeit/Thesis/Code/IGTS-python/code/syn2_td.py"
      ],
      "metadata": {
        "colab": {
          "base_uri": "https://localhost:8080/"
        },
        "id": "oHRrGxP5YKZ5",
        "outputId": "d864a543-0952-4cf1-be15-a919060a4669"
      },
      "execution_count": null,
      "outputs": [
        {
          "output_type": "stream",
          "name": "stdout",
          "text": [
            "2.1401888563649023\n",
            "2.253089448350165\n",
            "2.3843648852645476\n",
            "2.397540423671579\n",
            "2.2247440366202955\n",
            "2.02186118448134\n",
            "2.2448498321772017\n",
            "2.534204728688058\n",
            "1.6816142389379785\n",
            "2.478758353217511\n",
            "2.5777773217872655\n",
            "TopDown extracted TT >>> (array([1198,  598,  198,  278,  918,  638,  998, 1078,  758, 1038,  678,\n",
            "         38,   78,  158, 1399]), array([0.        , 0.06483169, 0.07827663, 0.09461274, 0.10355483,\n",
            "       0.11046076, 0.11663358, 0.12204258, 0.12790294, 0.13224164,\n",
            "       0.13620712, 0.13977388, 0.14309127, 0.14572335, 0.1481756 ]), 1)\n"
          ]
        }
      ]
    },
    {
      "cell_type": "markdown",
      "source": [
        "## Autoplait"
      ],
      "metadata": {
        "id": "gs-runz6Lf8A"
      }
    },
    {
      "cell_type": "code",
      "source": [
        "! python /content/drive/MyDrive/Masterarbeit/Thesis/Code/autoplait/apple.py"
      ],
      "metadata": {
        "colab": {
          "base_uri": "https://localhost:8080/"
        },
        "id": "qXklngbJJsG1",
        "outputId": "6637a0c6-913c-40c2-8a7e-8f174016f618"
      },
      "execution_count": null,
      "outputs": [
        {
          "output_type": "stream",
          "name": "stdout",
          "text": [
            "PowerTransformer()\n",
            "====================\n",
            " r:\t 1\n",
            " m:\t 1\n",
            " costT:\tinf\n",
            "====================\n",
            "\t-- try to split: inf vs inf\n",
            "===> elapsed time:10.375027179718018 [sec]\n",
            "[[  0 622]] 0\n"
          ]
        }
      ]
    },
    {
      "cell_type": "code",
      "source": [
        "!python /content/drive/MyDrive/Masterarbeit/Thesis/Code/autoplait/bee.py"
      ],
      "metadata": {
        "colab": {
          "base_uri": "https://localhost:8080/"
        },
        "id": "O-KgIIXCYjQ1",
        "outputId": "3bf09dc6-4b81-40c3-87b8-39af582d5ae7"
      },
      "execution_count": null,
      "outputs": [
        {
          "output_type": "stream",
          "name": "stdout",
          "text": [
            "====================\n",
            " r:\t 1\n",
            " m:\t 1\n",
            " costT:\t5192.87\n",
            "====================\n",
            "\t-- try to split: 5095.59 vs 5158.87\n",
            "====================\n",
            " r:\t 2\n",
            " m:\t 3\n",
            " costT:\t5078.99\n",
            "====================\n",
            "\t-- try to split: 3670.44 vs 3075.1\n",
            "====================\n",
            " r:\t 2\n",
            " m:\t 3\n",
            " costT:\t5078.99\n",
            "====================\n",
            "\t-- try to split: 2126.55 vs 1865.73\n",
            "===> elapsed time:12.674628973007202 [sec]\n",
            "[[  0  29]\n",
            " [232 377]] 0\n",
            "[[ 29 203]] 1\n"
          ]
        }
      ]
    },
    {
      "cell_type": "code",
      "source": [
        "!python /content/drive/MyDrive/Masterarbeit/Thesis/Code/autoplait/blood.py"
      ],
      "metadata": {
        "colab": {
          "base_uri": "https://localhost:8080/"
        },
        "id": "UOSqhpfvYjcb",
        "outputId": "86acd506-fd31-4372-b683-dccd707cc527"
      },
      "execution_count": null,
      "outputs": [
        {
          "output_type": "stream",
          "name": "stdout",
          "text": [
            "MinMaxScaler()\n",
            "====================\n",
            " r:\t 1\n",
            " m:\t 1\n",
            " costT:\tinf\n",
            "====================\n",
            "!! --- centroid not found\n",
            "\t-- try to split: inf vs inf\n",
            "===> elapsed time:109.58432030677795 [sec]\n",
            "[[    0 14973]] 0\n"
          ]
        }
      ]
    },
    {
      "cell_type": "code",
      "source": [
        "!python /content/drive/MyDrive/Masterarbeit/Thesis/Code/autoplait/cd1.py"
      ],
      "metadata": {
        "colab": {
          "base_uri": "https://localhost:8080/"
        },
        "id": "vv5LRv0qYjha",
        "outputId": "89cbab19-33f8-466a-f891-ea42e52ffa95"
      },
      "execution_count": null,
      "outputs": [
        {
          "output_type": "stream",
          "name": "stdout",
          "text": [
            "PowerTransformer()\n",
            "====================\n",
            " r:\t 1\n",
            " m:\t 1\n",
            " costT:\t9185.63\n",
            "====================\n",
            "\t-- try to split: 8318.92 vs 9151.63\n",
            "====================\n",
            " r:\t 2\n",
            " m:\t 6\n",
            " costT:\t8187.54\n",
            "====================\n",
            "\t-- try to split: 4061.72 vs 5322.86\n",
            "====================\n",
            " r:\t 3\n",
            " m:\t 10\n",
            " costT:\t6939.2\n",
            "====================\n",
            "\t-- try to split: 1277.91 vs 1261.94\n",
            "====================\n",
            " r:\t 3\n",
            " m:\t 10\n",
            " costT:\t6939.2\n",
            "====================\n",
            "\t-- try to split: 2896.02 vs 2640.09\n",
            "====================\n",
            " r:\t 3\n",
            " m:\t 10\n",
            " costT:\t6939.2\n",
            "====================\n",
            "\t-- try to split: 2305.59 vs 2721.51\n",
            "====================\n",
            " r:\t 4\n",
            " m:\t 10\n",
            " costT:\t6670.62\n",
            "====================\n",
            "\t-- try to split: 2110.16 vs 2184.28\n",
            "====================\n",
            " r:\t 5\n",
            " m:\t 15\n",
            " costT:\t6835.61\n",
            "====================\n",
            "\t-- try to split: 1445.87 vs 1221.47\n",
            "====================\n",
            " r:\t 5\n",
            " m:\t 15\n",
            " costT:\t6835.61\n",
            "====================\n",
            "!! --- centroid not found\n",
            "\t-- try to split: inf vs 823.159\n",
            "====================\n",
            " r:\t 5\n",
            " m:\t 15\n",
            " costT:\t6835.61\n",
            "====================\n",
            "fixed sampling\n",
            "\t-- try to split: 296.011 vs 39.6588\n",
            "===> elapsed time:50.863032579422 [sec]\n",
            "[[ 346  158]\n",
            " [1083  184]] 0\n",
            "[[ 103  243]\n",
            " [ 504  125]\n",
            " [ 930  153]\n",
            " [1267   30]] 1\n",
            "[[ 629  102]\n",
            " [ 921    9]\n",
            " [1297    8]\n",
            " [1308    4]\n",
            " [1318   18]\n",
            " [1367  160]] 2\n",
            "[[ 731  190]\n",
            " [1305    3]] 3\n",
            "[[  0 103]] 4\n"
          ]
        }
      ]
    },
    {
      "cell_type": "code",
      "source": [
        "!python /content/drive/MyDrive/Masterarbeit/Thesis/Code/autoplait/cd2.py"
      ],
      "metadata": {
        "colab": {
          "base_uri": "https://localhost:8080/"
        },
        "id": "Tc7V67dVYjlv",
        "outputId": "275b66ee-d7c0-4793-d8fb-627c7ad8391e"
      },
      "execution_count": null,
      "outputs": [
        {
          "output_type": "stream",
          "name": "stdout",
          "text": [
            "====================\n",
            " r:\t 1\n",
            " m:\t 1\n",
            " costT:\t6059.96\n",
            "====================\n",
            "\t-- try to split: 3457.98 vs 6025.96\n",
            "====================\n",
            " r:\t 2\n",
            " m:\t 5\n",
            " costT:\t3418.85\n",
            "====================\n",
            "\t-- try to split: 2462.4 vs 2592.05\n",
            "====================\n",
            " r:\t 3\n",
            " m:\t 9\n",
            " costT:\t3383.57\n",
            "====================\n",
            "!! --- centroid not found\n",
            "\t-- try to split: inf vs 1388.61\n",
            "====================\n",
            " r:\t 3\n",
            " m:\t 9\n",
            " costT:\t3383.57\n",
            "====================\n",
            "\t-- try to split: 1216.77 vs 996.031\n",
            "====================\n",
            " r:\t 3\n",
            " m:\t 9\n",
            " costT:\t3383.57\n",
            "====================\n",
            "\t-- try to split: 1317.25 vs 685.154\n",
            "===> elapsed time:31.566763639450073 [sec]\n",
            "[[ 371   87]\n",
            " [1019   87]] 0\n",
            "[[ 339   32]\n",
            " [ 458   26]\n",
            " [ 985   34]\n",
            " [1106   28]] 1\n",
            "[[   0  339]\n",
            " [ 484  501]\n",
            " [1134  151]] 2\n"
          ]
        }
      ]
    },
    {
      "cell_type": "code",
      "source": [
        "!python /content/drive/MyDrive/Masterarbeit/Thesis/Code/autoplait/occ.py"
      ],
      "metadata": {
        "colab": {
          "base_uri": "https://localhost:8080/"
        },
        "id": "-Blz-C0eYjqz",
        "outputId": "8a2bae31-d4aa-4c2a-fff4-3ab9ed463007"
      },
      "execution_count": null,
      "outputs": [
        {
          "output_type": "stream",
          "name": "stdout",
          "text": [
            "====================\n",
            " r:\t 1\n",
            " m:\t 1\n",
            " costT:\t3205.88\n",
            "====================\n",
            "\t-- try to split: 5834.88 vs 3171.88\n",
            "===> elapsed time:5.370389938354492 [sec]\n",
            "[[  0 509]] 0\n"
          ]
        }
      ]
    },
    {
      "cell_type": "code",
      "source": [
        "!python /content/drive/MyDrive/Masterarbeit/Thesis/Code/autoplait/syn1.py"
      ],
      "metadata": {
        "colab": {
          "base_uri": "https://localhost:8080/"
        },
        "id": "8ANIA1BJYjwv",
        "outputId": "60efbeeb-64ae-479f-b10f-ec031f08d2e5"
      },
      "execution_count": null,
      "outputs": [
        {
          "output_type": "stream",
          "name": "stdout",
          "text": [
            "MinMaxScaler()\n",
            "[[0.20629519 0.88824657 0.85026179 0.87154936 0.89230509 0.88601923]\n",
            " [0.21898336 0.99599517 0.94739108 0.96732259 0.99295697 0.98682492]\n",
            " [0.21786008 0.99042717 0.96143129 0.95170762 0.99275314 0.98124895]\n",
            " ...\n",
            " [0.05847714 0.01166687 0.0489207  0.04974842 0.02707166 0.03632013]\n",
            " [0.06236028 0.01392969 0.05362649 0.05196528 0.03055782 0.02777789]\n",
            " [0.05909236 0.01828118 0.06810406 0.06491476 0.02801864 0.02907945]]\n",
            "====================\n",
            " r:\t 1\n",
            " m:\t 1\n",
            " costT:\t187.144\n",
            "====================\n",
            "\t-- try to split: 16019.2 vs 153.144\n",
            "===> elapsed time:13.294229507446289 [sec]\n",
            "[[   0 1391]] 0\n"
          ]
        }
      ]
    },
    {
      "cell_type": "code",
      "source": [
        "!python /content/drive/MyDrive/Masterarbeit/Thesis/Code/autoplait/syn2.py"
      ],
      "metadata": {
        "colab": {
          "base_uri": "https://localhost:8080/"
        },
        "id": "uwjes1hAYj1u",
        "outputId": "14bc7da2-9398-4475-e511-128ce3763d9d"
      },
      "execution_count": null,
      "outputs": [
        {
          "output_type": "stream",
          "name": "stdout",
          "text": [
            "MinMaxScaler()\n",
            "[[0.63103612 0.89679776 0.39367004 ... 0.18898279 0.38238643 0.51704644]\n",
            " [0.70342723 0.98921575 0.43051471 ... 0.21439002 0.43072549 0.57795178]\n",
            " [0.70336311 0.99154242 0.42888256 ... 0.21319873 0.4290742  0.57854177]\n",
            " ...\n",
            " [0.01487241 0.01250194 0.0216678  ... 0.03352408 0.02714537 0.00448532]\n",
            " [0.01192763 0.01184596 0.02391999 ... 0.03844439 0.02901518 0.01209147]\n",
            " [0.00885734 0.01820436 0.02744983 ... 0.0401834  0.02773194 0.00888823]]\n",
            "====================\n",
            " r:\t 1\n",
            " m:\t 1\n",
            " costT:\t31592.1\n",
            "====================\n",
            "\t-- try to split: 26633.3 vs 31558.1\n",
            "====================\n",
            " r:\t 2\n",
            " m:\t 4\n",
            " costT:\t25826.5\n",
            "====================\n",
            "\t-- try to split: 22223.8 vs 22301.4\n",
            "====================\n",
            " r:\t 3\n",
            " m:\t 6\n",
            " costT:\t25247.7\n",
            "====================\n",
            "fixed sampling\n",
            "Fitting a model with 51 free scalar parameters with only 24 data points will result in a degenerate solution.\n",
            "Fitting a model with 51 free scalar parameters with only 24 data points will result in a degenerate solution.\n",
            "Fitting a model with 51 free scalar parameters with only 24 data points will result in a degenerate solution.\n",
            "\t-- try to split: 1340.72 vs 104.046\n",
            "====================\n",
            " r:\t 3\n",
            " m:\t 6\n",
            " costT:\t25247.7\n",
            "====================\n",
            "Fitting a model with 51 free scalar parameters with only 24 data points will result in a degenerate solution.\n",
            "\t-- try to split: 22766.9 vs 21450.7\n",
            "====================\n",
            " r:\t 3\n",
            " m:\t 6\n",
            " costT:\t25247.7\n",
            "====================\n",
            "\t-- try to split: 2929.21 vs 3385.13\n",
            "====================\n",
            " r:\t 4\n",
            " m:\t 6\n",
            " costT:\t24917.6\n",
            "====================\n",
            "!! --- centroid not found\n",
            "\t-- try to split: inf vs 2138.03\n",
            "====================\n",
            " r:\t 4\n",
            " m:\t 6\n",
            " costT:\t24917.6\n",
            "====================\n",
            "fixed sampling\n",
            "\t-- try to split: inf vs 689.628\n",
            "===> elapsed time:129.68499517440796 [sec]\n",
            "[[1037   36]] 0\n",
            "[[  31  162]\n",
            " [ 592  445]\n",
            " [1073  318]] 1\n",
            "[[193 399]] 2\n",
            "[[ 0 31]] 3\n"
          ]
        }
      ]
    },
    {
      "cell_type": "markdown",
      "source": [
        "# REA (for all fluss experiments)\n"
      ],
      "metadata": {
        "id": "PYTQhPdmKQFE"
      }
    },
    {
      "cell_type": "code",
      "source": [
        "def _rea(cac, n_regimes, L, excl_factor=5):\n",
        "    \"\"\"\n",
        "    Find the location of the regimes using the regime extracting\n",
        "    algorithm (REA)\n",
        "\n",
        "    Parameters\n",
        "    ----------\n",
        "    cac : numpy.ndarray\n",
        "        The corrected arc curve\n",
        "\n",
        "    n_regimes : int\n",
        "        The number of regimes to search for. This is one more than the\n",
        "        number of regime changes as denoted in the original paper.\n",
        "\n",
        "    L : int\n",
        "        The subsequence length that is set roughly to be one period length.\n",
        "        This is likely to be the same value as the window size, `m`, used\n",
        "        to compute the matrix profile and matrix profile index but it can\n",
        "        be different since this is only used to manage edge effects\n",
        "        and has no bearing on any of the IAC or CAC core calculations.\n",
        "\n",
        "    excl_factor : int, default 5\n",
        "        The multiplying factor for the regime exclusion zone\n",
        "\n",
        "    Returns\n",
        "    -------\n",
        "    regime_locs : numpy.ndarray\n",
        "        The locations of the regimes\n",
        "\n",
        "    Notes\n",
        "    -----\n",
        "    DOI: 10.1109/ICDM.2017.21 <https://www.cs.ucr.edu/~eamonn/Segmentation_ICDM.pdf>`__\n",
        "\n",
        "    See Table II\n",
        "\n",
        "    This is the implementation for the regime extracting algorithm (REA).\n",
        "    \"\"\"\n",
        "    regime_locs = np.empty(n_regimes - 1, dtype=np.int64)\n",
        "    tmp_cac = copy.deepcopy(cac)\n",
        "    for i in range(n_regimes - 1):\n",
        "        regime_locs[i] = np.argmin(tmp_cac)\n",
        "        excl_start = max(regime_locs[i] - excl_factor * L, 0)\n",
        "        excl_stop = min(regime_locs[i] + excl_factor * L, cac.shape[0])\n",
        "        tmp_cac[excl_start:excl_stop] = 1.0\n",
        "\n",
        "    return regime_locs"
      ],
      "metadata": {
        "id": "wTAdtH3bMDxe"
      },
      "execution_count": null,
      "outputs": []
    },
    {
      "cell_type": "markdown",
      "source": [
        "# Experiment Apple Dataset\n"
      ],
      "metadata": {
        "id": "x1uI9dQDF2yu"
      }
    },
    {
      "cell_type": "code",
      "source": [
        "#scaler = MinMaxScaler()\n",
        "my_data = apple\n",
        "scaler = StandardScaler()\n",
        "print(scaler.fit(my_data))\n",
        "\n",
        "#print(scaler.transform(data))\n",
        "my_data = scaler.transform(my_data)\n",
        "#df1= pd.read_csv(datapath + \"bee.csv\", delimiter=',',index_col=False) \n",
        "df = pd.read_csv(datapath + \"bee.csv\", delimiter=',',index_col=False, usecols=[1, 2,3,4] ) "
      ],
      "metadata": {
        "colab": {
          "base_uri": "https://localhost:8080/"
        },
        "id": "BcVFqjuAWbXl",
        "outputId": "efa6374c-4291-4df0-bbf8-e21ec22a308f"
      },
      "execution_count": null,
      "outputs": [
        {
          "output_type": "stream",
          "name": "stdout",
          "text": [
            "StandardScaler()\n"
          ]
        }
      ]
    },
    {
      "cell_type": "code",
      "source": [
        "for col in range(my_data.shape[1]):\n",
        "    mp = stumpy.stump(my_data[:,col], m=10)\n",
        "    cac, regime_locations  = stumpy.fluss(mp[:,1],L=10, n_regimes=9, excl_factor=5)\n",
        "    if col == 0:\n",
        "        mp1 = mp\n",
        "        c1 = cac\n",
        "        r1 = regime_locations\n",
        "        print(col)\n",
        "        #print(cac)\n",
        "        print(regime_locations)\n",
        "    elif col == 1:\n",
        "        mp2 = mp\n",
        "        c2 = cac\n",
        "        r2 = regime_locations\n",
        "        print(col)\n",
        "        #print(cac)\n",
        "        print(regime_locations)\n",
        "    elif col == 2:\n",
        "        mp3 = mp\n",
        "        c3 = cac\n",
        "        r3 = regime_locations\n",
        "        print(col)\n",
        "       #print(cac)\n",
        "        print(regime_locations)\n",
        "    elif col == 3:\n",
        "        mp4 = mp\n",
        "        c4 = cac\n",
        "        r4 = regime_locations\n",
        "        print(col)\n",
        "        #print(cac)\n",
        "        print(regime_locations)\n",
        "\n",
        "#Multi_D_CAC = (c1 + c2 + c3 + c4) / 4;\n",
        "Multi_D_CAC_3 = (c1 + c2 ) / 2;\n",
        "#Multi_D_REG = (r1 + r2 + r3 + r4) / 4;\n",
        "#mp_all = (mp1 + mp2 + mp3 + mp4) / 4;    \n",
        "\n",
        "#cac_all, regime_locations_all  = stumpy.fluss(mp_all[:,1],L=30, n_regimes=7, excl_factor=1)\n",
        "\n",
        "regime_locations = _rea(Multi_D_CAC_3,n_regimes=9,L=10,excl_factor=5)\n",
        "\n",
        "print(\"Final\", regime_locations)\n",
        "\n",
        "fig, axs = plt.subplots(2, sharex=True, gridspec_kw={'hspace': 0})\n",
        "axs[0].plot(range(my_data.shape[0]), my_data)\n",
        "axs[0].axvline(x=regime_locations[0], linestyle=\"dashed\")\n",
        "axs[0].axvline(x=regime_locations[1], linestyle=\"dashed\")\n",
        "axs[0].axvline(x=regime_locations[2], linestyle=\"dashed\")\n",
        "axs[0].axvline(x=regime_locations[3], linestyle=\"dashed\")\n",
        "axs[0].axvline(x=regime_locations[4], linestyle=\"dashed\")\n",
        "axs[0].axvline(x=regime_locations[5], linestyle=\"dashed\")\n",
        "#axs[0].axvline(x=regime_locations[6], linestyle=\"dashed\")\n",
        "#axs[0].axvline(x=regime_locations[7], linestyle=\"dashed\")\n",
        "axs[1].plot(range(Multi_D_CAC_3.shape[0]), Multi_D_CAC_3, color='C1')\n",
        "axs[1].axvline(x=regime_locations[0], linestyle=\"dashed\")\n",
        "axs[1].axvline(x=regime_locations[1], linestyle=\"dashed\")\n",
        "axs[1].axvline(x=regime_locations[2], linestyle=\"dashed\")\n",
        "axs[1].axvline(x=regime_locations[3], linestyle=\"dashed\")\n",
        "axs[1].axvline(x=regime_locations[4], linestyle=\"dashed\")\n",
        "axs[1].axvline(x=regime_locations[5], linestyle=\"dashed\")\n",
        "#axs[1].axvline(x=regime_locations[6], linestyle=\"dashed\")\n",
        "#axs[1].axvline(x=regime_locations[7], linestyle=\"dashed\")\n",
        "#axs[1].axvline(x=regime_locations[5], linestyle=\"dashed\")\n",
        "plt.show()"
      ],
      "metadata": {
        "colab": {
          "base_uri": "https://localhost:8080/",
          "height": 338
        },
        "id": "2wZLUYsWLT_U",
        "outputId": "857c8be2-d7bd-4bb6-dcf1-f9b2204958ff"
      },
      "execution_count": null,
      "outputs": [
        {
          "output_type": "stream",
          "name": "stdout",
          "text": [
            "0\n",
            "[547 479 413 241   0   0   0   0]\n",
            "1\n",
            "[558  87 341 474   0   0   0   0]\n",
            "Final [552  87 479 413 341 241   0   0]\n"
          ]
        },
        {
          "output_type": "display_data",
          "data": {
            "text/plain": [
              "<Figure size 432x288 with 2 Axes>"
            ],
            "image/png": "[encoded data removed]"
          },
          "metadata": {
            "needs_background": "light"
          }
        }
      ]
    },
    {
      "cell_type": "code",
      "source": [
        "print(regime_locations)"
      ],
      "metadata": {
        "colab": {
          "base_uri": "https://localhost:8080/"
        },
        "id": "KqAz1sDQM6vJ",
        "outputId": "daae0bc3-3b7b-441b-e1be-aed7de54bcf5"
      },
      "execution_count": null,
      "outputs": [
        {
          "output_type": "stream",
          "name": "stdout",
          "text": [
            "[552  87 479 413 341 241   0   0]\n"
          ]
        }
      ]
    },
    {
      "cell_type": "code",
      "source": [
        "from pathlib import Path  \n",
        "filepath = Path('/content/drive/MyDrive/Masterarbeit/Thesis/Code/out.csv')  \n",
        "filepath.parent.mkdir(parents=True, exist_ok=True)  \n",
        "df.to_csv(filepath)"
      ],
      "metadata": {
        "id": "V-rni96cbzc1"
      },
      "execution_count": null,
      "outputs": []
    },
    {
      "cell_type": "code",
      "source": [
        "synthetic_data = np.genfromtxt( datapath + \"syn_1400_6_7.csv\", delimiter=',')\n",
        "synthetic_data_1_v2 = np.genfromtxt(\"/content/drive/MyDrive/Masterarbeit/Thesis/Data/Datafinal/syn1_v2.csv\", delimiter=',')\n",
        "synthetic_data_2_v2 = np.genfromtxt('/content/drive/MyDrive/Masterarbeit/Thesis/Data/Datafinal/syn2_v2.csv', delimiter=',')\n",
        "synthetic_data2 = np.genfromtxt(datapath + \"syn_1400_12_14.csv\", delimiter=',')\n",
        "chickendance1 = np.genfromtxt( datapath + \"Chicken19_60min_sample.csv\",skip_header=1, delimiter=',')\n",
        "chickendance2 = np.genfromtxt( datapath + \"Chicken21_60min_sample.csv\",skip_header=1, delimiter=',')\n",
        "blood_pig = np.genfromtxt( datapath + \"blood_pic.csv\",skip_header=1, delimiter=',')\n",
        "nilm1 =np.genfromtxt( datapath + \"nilm1_60min_sample.csv\",skip_header=1, delimiter=',')\n",
        "apple =np.genfromtxt( datapath + \"apple.csv\",skip_header=1, delimiter=',',usecols= range(1,3))\n",
        "bee =np.genfromtxt( datapath + \"bee.csv\",skip_header=1, delimiter=',',usecols= range(1,5))\n",
        "occ =np.genfromtxt( datapath + \"occ.csv\",skip_header=1, delimiter=',',usecols= range(1,5))\n",
        "occ2 =np.genfromtxt( datapath + \"occ.csv\",skip_header=1, delimiter=',',usecols= [1,3])"
      ],
      "metadata": {
        "id": "4uprZUz4XqIE"
      },
      "execution_count": null,
      "outputs": []
    },
    {
      "cell_type": "code",
      "source": [
        "#scaler = MinMaxScaler()\n",
        "my_data =chickendance2\n",
        "scaler = StandardScaler()\n",
        "print(scaler.fit(my_data))\n",
        "\n",
        "#print(scaler.transform(data))\n",
        "my_data = scaler.transform(my_data)\n",
        "#df1= pd.read_csv(datapath + \"bee.csv\", delimiter=',',index_col=False) \n",
        "df = pd.read_csv(datapath + \"Chicken19_60min_sample.csv\", delimiter=',',index_col=False) "
      ],
      "metadata": {
        "colab": {
          "base_uri": "https://localhost:8080/"
        },
        "id": "Opqds8HNyi9k",
        "outputId": "ccb67d01-45c1-4a76-dc6b-f2998aaf5040"
      },
      "execution_count": null,
      "outputs": [
        {
          "output_type": "stream",
          "name": "stdout",
          "text": [
            "StandardScaler()\n"
          ]
        }
      ]
    },
    {
      "cell_type": "code",
      "source": [
        "df = pd.DataFrame(my_data)"
      ],
      "metadata": {
        "id": "RizlGnHAyoAB"
      },
      "execution_count": null,
      "outputs": []
    },
    {
      "cell_type": "code",
      "source": [
        "synthetic_data2.shape"
      ],
      "metadata": {
        "colab": {
          "base_uri": "https://localhost:8080/"
        },
        "id": "RfaSqgnlaJZ7",
        "outputId": "f169fdfe-74c9-48a7-b5c0-686f12d02a4e"
      },
      "execution_count": null,
      "outputs": [
        {
          "output_type": "execute_result",
          "data": {
            "text/plain": [
              "(1400, 12)"
            ]
          },
          "metadata": {},
          "execution_count": 43
        }
      ]
    },
    {
      "cell_type": "code",
      "source": [],
      "metadata": {
        "id": "Ux0AwrkVfAlR"
      },
      "execution_count": null,
      "outputs": []
    },
    {
      "cell_type": "code",
      "source": [
        "synthetic_data_1_v2.T.shape"
      ],
      "metadata": {
        "colab": {
          "base_uri": "https://localhost:8080/"
        },
        "id": "nLbsK-GIaNKe",
        "outputId": "9d316179-a62f-4856-a32a-b80691054e09"
      },
      "execution_count": null,
      "outputs": [
        {
          "output_type": "execute_result",
          "data": {
            "text/plain": [
              "(1400, 6)"
            ]
          },
          "metadata": {},
          "execution_count": 268
        }
      ]
    },
    {
      "cell_type": "markdown",
      "source": [],
      "metadata": {
        "id": "hDPHdDcufAQO"
      }
    },
    {
      "cell_type": "code",
      "source": [
        "df = df.T"
      ],
      "metadata": {
        "id": "KK9w34cEY0qC"
      },
      "execution_count": null,
      "outputs": []
    },
    {
      "cell_type": "code",
      "source": [
        "df.info"
      ],
      "metadata": {
        "colab": {
          "base_uri": "https://localhost:8080/"
        },
        "id": "ITdNb2bLdmbn",
        "outputId": "779ee351-0774-4700-d28e-c64f4fcef723"
      },
      "execution_count": null,
      "outputs": [
        {
          "output_type": "execute_result",
          "data": {
            "text/plain": [
              "<bound method DataFrame.info of              0         1         2         3\n",
              "0    -1.288234 -1.218694  0.365877  0.342926\n",
              "1    -1.238806 -1.161776  0.358898  0.334904\n",
              "2    -1.195201 -1.098863  0.363695  0.335175\n",
              "3    -1.151302 -1.035775  0.365995  0.335816\n",
              "4    -1.094401 -0.976693  0.362684  0.342500\n",
              "...        ...       ...       ...       ...\n",
              "1280 -0.211888 -0.231630  0.771316  0.659785\n",
              "1281 -0.220696 -0.228854  0.770517  0.654736\n",
              "1282 -0.234943 -0.229171  0.767816  0.654308\n",
              "1283 -0.258510 -0.237341  0.760968  0.658914\n",
              "1284 -0.279079 -0.251827  0.763928  0.657599\n",
              "\n",
              "[1285 rows x 4 columns]>"
            ]
          },
          "metadata": {},
          "execution_count": 68
        }
      ]
    },
    {
      "cell_type": "code",
      "source": [
        "df = df.iloc[:, [4, 0, 11]]"
      ],
      "metadata": {
        "id": "F_7ldFq9cv-Y"
      },
      "execution_count": null,
      "outputs": []
    },
    {
      "cell_type": "code",
      "source": [
        "filepath = Path('/content/drive/MyDrive/Masterarbeit/Thesis/Data/Datafinal/syn2_v2.csv')  \n",
        "filepath.parent.mkdir(parents=True, exist_ok=True)  \n",
        "df.to_csv(filepath,index=False)"
      ],
      "metadata": {
        "id": "A7TmpTgheK1m"
      },
      "execution_count": null,
      "outputs": []
    },
    {
      "cell_type": "code",
      "source": [
        "mps, indices = stumpy.mstump(df, m=10)"
      ],
      "metadata": {
        "id": "IFg310UsDafn"
      },
      "execution_count": null,
      "outputs": []
    },
    {
      "cell_type": "code",
      "source": [
        "motifs_idx = np.argmin(mps, axis=1)"
      ],
      "metadata": {
        "id": "W7rkqJYwEnlJ"
      },
      "execution_count": null,
      "outputs": []
    },
    {
      "cell_type": "code",
      "source": [
        "nn_idx = indices[np.arange(len(motifs_idx)), motifs_idx]"
      ],
      "metadata": {
        "id": "Kv7Uj5VEExlg"
      },
      "execution_count": null,
      "outputs": []
    },
    {
      "cell_type": "code",
      "source": [
        "nn_idx"
      ],
      "metadata": {
        "colab": {
          "base_uri": "https://localhost:8080/"
        },
        "id": "POBZVrUuFmAu",
        "outputId": "7a837845-4d3e-4fa1-a320-e69afa1e9290"
      },
      "execution_count": null,
      "outputs": [
        {
          "output_type": "execute_result",
          "data": {
            "text/plain": [
              "array([473, 364, 368, 448])"
            ]
          },
          "metadata": {},
          "execution_count": 72
        }
      ]
    },
    {
      "cell_type": "code",
      "source": [
        "m=10\n",
        "mdls, subspaces = stumpy.mdl(df, m, motifs_idx, nn_idx)"
      ],
      "metadata": {
        "id": "idE_5wFUE4ca"
      },
      "execution_count": null,
      "outputs": []
    },
    {
      "cell_type": "code",
      "source": [
        "plt.plot(np.arange(len(mdls)), mdls, c='red', linewidth='4')\n",
        "plt.xlabel('k (zero-based)', fontsize='20')\n",
        "plt.ylabel('Bit Size', fontsize='20')\n",
        "plt.xticks(range(mps.shape[0]))\n",
        "plt.plot(1, 1520, marker=\"v\", markersize=10, color='red')\n",
        "plt.show()"
      ],
      "metadata": {
        "colab": {
          "base_uri": "https://localhost:8080/",
          "height": 274
        },
        "id": "4PEPvDpOFei-",
        "outputId": "f36c1b0a-f9bb-47ed-f78b-ce0303667942"
      },
      "execution_count": null,
      "outputs": [
        {
          "output_type": "display_data",
          "data": {
            "text/plain": [
              "<Figure size 432x288 with 1 Axes>"
            ],
            "image/png": "[encoded data removed]"
          },
          "metadata": {
            "needs_background": "light"
          }
        }
      ]
    },
    {
      "cell_type": "code",
      "source": [
        "\n",
        "k = np.argmin(mdls)\n",
        "\n",
        "print(df.columns[subspaces[k]])\n"
      ],
      "metadata": {
        "colab": {
          "base_uri": "https://localhost:8080/"
        },
        "id": "9sUlTVy4G1s3",
        "outputId": "fe5182c8-5802-436c-95c1-a0f6cc79d031"
      },
      "execution_count": null,
      "outputs": [
        {
          "output_type": "stream",
          "name": "stdout",
          "text": [
            "Int64Index([0, 3, 2, 1], dtype='int64')\n"
          ]
        }
      ]
    },
    {
      "cell_type": "code",
      "source": [
        "df"
      ],
      "metadata": {
        "colab": {
          "base_uri": "https://localhost:8080/"
        },
        "id": "G8RE9QXhHd1w",
        "outputId": "09fde827-d007-47a1-d20f-bda9c926ead9"
      },
      "execution_count": null,
      "outputs": [
        {
          "output_type": "execute_result",
          "data": {
            "text/plain": [
              "array([[-0.81597884, -0.72063202],\n",
              "       [-0.82069832, -0.45519335],\n",
              "       [-0.81597884, -0.16399265],\n",
              "       ...,\n",
              "       [ 0.28014539, -0.28374125],\n",
              "       [ 0.32016905,  0.034516  ],\n",
              "       [ 0.36774453, -0.36284735]])"
            ]
          },
          "metadata": {},
          "execution_count": 71
        }
      ]
    },
    {
      "cell_type": "markdown",
      "source": [
        "regime_locations = Lrea(c1,10,L=100,excl_factor=6)\n",
        "regime_locations"
      ],
      "metadata": {
        "id": "HOMHv43GzLr2"
      }
    },
    {
      "cell_type": "code",
      "source": [
        "print(c1.shape)\n",
        "print(c2.shape)\n",
        "print(c3.shape)\n",
        "print(c4.shape)\n",
        "\n"
      ],
      "metadata": {
        "colab": {
          "base_uri": "https://localhost:8080/"
        },
        "id": "sTW6CTIQYXWC",
        "outputId": "751d277e-3737-4202-e264-bc2f55229b68"
      },
      "execution_count": null,
      "outputs": [
        {
          "output_type": "stream",
          "name": "stdout",
          "text": [
            "(1507,)\n",
            "(1507,)\n",
            "(1507,)\n",
            "(1507,)\n"
          ]
        }
      ]
    },
    {
      "cell_type": "markdown",
      "source": [
        "# Experiment Bee Dataset"
      ],
      "metadata": {
        "id": "09rR7uKdGSDP"
      }
    },
    {
      "cell_type": "code",
      "source": [
        "#scaler = MinMaxScaler()\n",
        "my_data = bee\n",
        "scaler = StandardScaler()\n",
        "print(scaler.fit(my_data))\n",
        "\n",
        "#print(scaler.transform(data))\n",
        "my_data = scaler.transform(my_data)\n",
        "my_data.shape\n",
        "\n",
        "#df = pd.read_csv(datapath + \"apple.csv\", delimiter=',',index_col=False, usecols=[1, 2] ) "
      ],
      "metadata": {
        "colab": {
          "base_uri": "https://localhost:8080/"
        },
        "id": "0Qx_fJg8WfCN",
        "outputId": "f528613b-aa30-40b0-de5c-11e768db2e93"
      },
      "execution_count": null,
      "outputs": [
        {
          "output_type": "stream",
          "name": "stdout",
          "text": [
            "StandardScaler()\n"
          ]
        },
        {
          "output_type": "execute_result",
          "data": {
            "text/plain": [
              "(609, 4)"
            ]
          },
          "metadata": {},
          "execution_count": 163
        }
      ]
    },
    {
      "cell_type": "code",
      "source": [
        "for col in range(my_data.shape[1]):\n",
        "    mp = stumpy.stump(my_data[:,col], m=10)\n",
        "    cac, regime_locations  = stumpy.fluss(mp[:,1],L=10, n_regimes=3, excl_factor=5)\n",
        "    if col == 0:\n",
        "        mp1 = mp\n",
        "        c1 = cac\n",
        "        r1 = regime_locations\n",
        "        print(col)\n",
        "        #print(cac)\n",
        "        print(regime_locations)\n",
        "    elif col == 1:\n",
        "        mp2 = mp\n",
        "        c2 = cac\n",
        "        r2 = regime_locations\n",
        "        print(col)\n",
        "        #print(cac)\n",
        "        print(regime_locations)\n",
        "    elif col == 2:\n",
        "        mp3 = mp\n",
        "        c3 = cac\n",
        "        r3 = regime_locations\n",
        "        print(col)\n",
        "       #print(cac)\n",
        "        print(regime_locations)\n",
        "    elif col == 3:\n",
        "        mp4 = mp\n",
        "        c4 = cac\n",
        "        r4 = regime_locations\n",
        "        print(col)\n",
        "        #print(cac)\n",
        "        print(regime_locations)\n",
        "\n",
        "Multi_D_CAC = (c1 + c2 + c3 + c4) / 4;\n",
        "#Multi_D_CAC = (c3 + c4) / 2;\n",
        "#Multi_D_CAC_3 = (c1 + c2 ) / 2;\n",
        "#Multi_D_REG = (r1 + r2 + r3 + r4) / 4;\n",
        "#mp_all = (mp1 + mp2 + mp3 + mp4) / 4;    \n",
        "\n",
        "#cac_all, regime_locations_all  = stumpy.fluss(mp_all[:,1],L=30, n_regimes=7, excl_factor=1)\n",
        "\n",
        "regime_locations = _rea(Multi_D_CAC,n_regimes=3,L=10,excl_factor=5)\n",
        "\n",
        "print(\"Final\", regime_locations)\n",
        "\n",
        "fig, axs = plt.subplots(2, sharex=True, gridspec_kw={'hspace': 0})\n",
        "axs[0].plot(range(my_data.shape[0]), my_data)\n",
        "axs[0].axvline(x=regime_locations[0], linestyle=\"dashed\")\n",
        "axs[0].axvline(x=regime_locations[1], linestyle=\"dashed\")\n",
        "#axs[0].axvline(x=regime_locations[2], linestyle=\"dashed\")\n",
        "#axs[0].axvline(x=regime_locations[3], linestyle=\"dashed\")\n",
        "#axs[0].axvline(x=regime_locations[4], linestyle=\"dashed\")\n",
        "#axs[0].axvline(x=regime_locations[5], linestyle=\"dashed\")\n",
        "#axs[0].axvline(x=regime_locations[6], linestyle=\"dashed\")\n",
        "#axs[0].axvline(x=regime_locations[7], linestyle=\"dashed\")\n",
        "axs[1].plot(range(Multi_D_CAC.shape[0]), Multi_D_CAC, color='C1')\n",
        "axs[1].axvline(x=regime_locations[0], linestyle=\"dashed\")\n",
        "axs[1].axvline(x=regime_locations[1], linestyle=\"dashed\")\n",
        "#axs[1].axvline(x=regime_locations[2], linestyle=\"dashed\")\n",
        "#axs[1].axvline(x=regime_locations[3], linestyle=\"dashed\")\n",
        "#axs[1].axvline(x=regime_locations[4], linestyle=\"dashed\")\n",
        "#axs[1].axvline(x=regime_locations[5], linestyle=\"dashed\")\n",
        "#axs[1].axvline(x=regime_locations[6], linestyle=\"dashed\")\n",
        "#axs[1].axvline(x=regime_locations[7], linestyle=\"dashed\")\n",
        "#axs[1].axvline(x=regime_locations[5], linestyle=\"dashed\")\n",
        "plt.show()"
      ],
      "metadata": {
        "id": "0tx0IMx4LBCV",
        "colab": {
          "base_uri": "https://localhost:8080/",
          "height": 407
        },
        "outputId": "6a7de94c-b91d-4c87-9219-959caae4aeb5"
      },
      "execution_count": null,
      "outputs": [
        {
          "output_type": "stream",
          "name": "stdout",
          "text": [
            "0\n",
            "[350 299]\n",
            "1\n",
            "[549   0]\n",
            "2\n",
            "[548 185]\n",
            "3\n",
            "[544   0]\n",
            "Final [549 350]\n"
          ]
        },
        {
          "output_type": "display_data",
          "data": {
            "text/plain": [
              "<Figure size 432x288 with 2 Axes>"
            ],
            "image/png": "[encoded data removed]"
          },
          "metadata": {
            "needs_background": "light"
          }
        }
      ]
    },
    {
      "cell_type": "markdown",
      "source": [
        "# Experiment occ Dataset"
      ],
      "metadata": {
        "id": "ZIlCzRT3GeJ_"
      }
    },
    {
      "cell_type": "code",
      "source": [
        "#scaler = MinMaxScaler()\n",
        "my_data = occ2\n",
        "scaler = StandardScaler()\n",
        "print(scaler.fit(my_data))\n",
        "\n",
        "#print(scaler.transform(data))\n",
        "my_data = scaler.transform(my_data)\n",
        "\n",
        "#df = pd.read_csv(datapath + \"apple.csv\", delimiter=',',index_col=False, usecols=[1, 2] ) "
      ],
      "metadata": {
        "colab": {
          "base_uri": "https://localhost:8080/"
        },
        "id": "Q72h-Dl3WnhV",
        "outputId": "9c2d4d3d-b26d-452f-95dc-96b654363461"
      },
      "execution_count": null,
      "outputs": [
        {
          "output_type": "stream",
          "name": "stdout",
          "text": [
            "StandardScaler()\n"
          ]
        }
      ]
    },
    {
      "cell_type": "code",
      "source": [
        "for col in range(my_data.shape[1]):\n",
        "    mp = stumpy.stump(my_data[:,col], m=10)\n",
        "    cac, regime_locations  = stumpy.fluss(mp[:,1],L=10, n_regimes=11, excl_factor=3)\n",
        "    if col == 0:\n",
        "        mp1 = mp\n",
        "        c1 = cac\n",
        "        r1 = regime_locations\n",
        "        print(col)\n",
        "        #print(cac)\n",
        "        print(regime_locations)\n",
        "    elif col == 1:\n",
        "        mp2 = mp\n",
        "        c2 = cac\n",
        "        r2 = regime_locations\n",
        "        print(col)\n",
        "        #print(cac)\n",
        "        print(regime_locations)\n",
        "    elif col == 2:\n",
        "        mp3 = mp\n",
        "        c3 = cac\n",
        "        r3 = regime_locations\n",
        "        print(col)\n",
        "       #print(cac)\n",
        "        print(regime_locations)\n",
        "    elif col == 3:\n",
        "        mp4 = mp\n",
        "        c4 = cac\n",
        "        r4 = regime_locations\n",
        "        print(col)\n",
        "        #print(cac)\n",
        "        print(regime_locations)\n",
        "\n",
        "#Multi_D_CAC = (c1 + c3 ) / 2;\n",
        "Multi_D_CAC_3 = (c1 + c2 ) / 2;\n",
        "#Multi_D_REG = (r1 + r2 + r3 + r4) / 4;\n",
        "#mp_all = (mp1 + mp2 + mp3 + mp4) / 4;    \n",
        "\n",
        "#cac_all, regime_locations_all  = stumpy.fluss(mp_all[:,1],L=30, n_regimes=7, excl_factor=1)\n",
        "\n",
        "regime_locations = _rea(Multi_D_CAC_3,n_regimes=11,L=10,excl_factor=3)\n",
        "\n",
        "print(\"Final\", regime_locations)\n",
        "\n",
        "fig, axs = plt.subplots(2, sharex=True, gridspec_kw={'hspace': 0})\n",
        "axs[0].plot(range(my_data.shape[0]), my_data)\n",
        "axs[0].axvline(x=regime_locations[0], linestyle=\"dashed\")\n",
        "axs[0].axvline(x=regime_locations[1], linestyle=\"dashed\")\n",
        "axs[0].axvline(x=regime_locations[2], linestyle=\"dashed\")\n",
        "axs[0].axvline(x=regime_locations[3], linestyle=\"dashed\")\n",
        "axs[0].axvline(x=regime_locations[4], linestyle=\"dashed\")\n",
        "axs[0].axvline(x=regime_locations[5], linestyle=\"dashed\")\n",
        "axs[0].axvline(x=regime_locations[6], linestyle=\"dashed\")\n",
        "axs[0].axvline(x=regime_locations[7], linestyle=\"dashed\")\n",
        "axs[1].plot(range(Multi_D_CAC_3.shape[0]), Multi_D_CAC_3, color='C1')\n",
        "axs[1].axvline(x=regime_locations[0], linestyle=\"dashed\")\n",
        "axs[1].axvline(x=regime_locations[1], linestyle=\"dashed\")\n",
        "axs[1].axvline(x=regime_locations[2], linestyle=\"dashed\")\n",
        "axs[1].axvline(x=regime_locations[3], linestyle=\"dashed\")\n",
        "axs[1].axvline(x=regime_locations[4], linestyle=\"dashed\")\n",
        "axs[1].axvline(x=regime_locations[5], linestyle=\"dashed\")\n",
        "axs[1].axvline(x=regime_locations[6], linestyle=\"dashed\")\n",
        "axs[1].axvline(x=regime_locations[7], linestyle=\"dashed\")\n",
        "#axs[1].axvline(x=regime_locations[5], linestyle=\"dashed\")\n",
        "plt.show()"
      ],
      "metadata": {
        "colab": {
          "base_uri": "https://localhost:8080/",
          "height": 338
        },
        "id": "_agptL09WLdv",
        "outputId": "fb838fa2-2881-47f4-db84-1bd9b1b3ae08"
      },
      "execution_count": null,
      "outputs": [
        {
          "output_type": "stream",
          "name": "stdout",
          "text": [
            "0\n",
            "[219 457   0   0   0   0   0   0   0   0]\n",
            "1\n",
            "[ 42 450  77 137 359 419 262 316 224 179]\n",
            "Final [ 42 450  77 137 359 419 262 316 224 179]\n"
          ]
        },
        {
          "output_type": "display_data",
          "data": {
            "text/plain": [
              "<Figure size 432x288 with 2 Axes>"
            ],
            "image/png": "[encoded data removed]"
          },
          "metadata": {
            "needs_background": "light"
          }
        }
      ]
    },
    {
      "cell_type": "markdown",
      "source": [
        "# Experiment chickendance 1 Dataset"
      ],
      "metadata": {
        "id": "poM9MC1wGoGV"
      }
    },
    {
      "cell_type": "code",
      "source": [
        "#scaler = MinMaxScaler()\n",
        "my_data = chickendance1\n",
        "scaler = StandardScaler()\n",
        "print(scaler.fit(my_data))\n",
        "\n",
        "#print(scaler.transform(data))\n",
        "my_data = scaler.transform(my_data)\n",
        "\n",
        "#df = pd.read_csv(datapath + \"apple.csv\", delimiter=',',index_col=False, usecols=[1, 2] ) "
      ],
      "metadata": {
        "colab": {
          "base_uri": "https://localhost:8080/"
        },
        "id": "2OUVz8WCWrrM",
        "outputId": "ed9806d4-d05d-4a92-d773-298c50fd6ce4"
      },
      "execution_count": null,
      "outputs": [
        {
          "output_type": "stream",
          "name": "stdout",
          "text": [
            "StandardScaler()\n"
          ]
        }
      ]
    },
    {
      "cell_type": "code",
      "source": [
        "for col in range(my_data.shape[1]):\n",
        "    mp = stumpy.stump(my_data[:,col], m=20)\n",
        "    cac, regime_locations  = stumpy.fluss(mp[:,1],L=10, n_regimes=7, excl_factor=5)\n",
        "    if col == 0:\n",
        "        mp1 = mp\n",
        "        c1 = cac\n",
        "        r1 = regime_locations\n",
        "        print(col)\n",
        "        #print(cac)\n",
        "        print(regime_locations)\n",
        "    elif col == 1:\n",
        "        mp2 = mp\n",
        "        c2 = cac\n",
        "        r2 = regime_locations\n",
        "        print(col)\n",
        "        #print(cac)\n",
        "        print(regime_locations)\n",
        "    elif col == 2:\n",
        "        mp3 = mp\n",
        "        c3 = cac\n",
        "        r3 = regime_locations\n",
        "        print(col)\n",
        "       #print(cac)\n",
        "        print(regime_locations)\n",
        "    elif col == 3:\n",
        "        mp4 = mp\n",
        "        c4 = cac\n",
        "        r4 = regime_locations\n",
        "        print(col)\n",
        "        #print(cac)\n",
        "        print(regime_locations)\n",
        "\n",
        "#Multi_D_CAC = (c1 + c2 + c3 + c4) / 4;\n",
        "Multi_D_CAC_3 = (c1 + c2 + c3 +c4 ) / 4;\n",
        "Multi_D_CAC_3 = ( c2 + c3 +c4 ) / 3;\n",
        "#Multi_D_REG = (r1 + r2 + r3 + r4) / 4;\n",
        "#mp_all = (mp1 + mp2 + mp3 + mp4) / 4;    \n",
        "\n",
        "#cac_all, regime_locations_all  = stumpy.fluss(mp_all[:,1],L=30, n_regimes=7, excl_factor=1)\n",
        "\n",
        "regime_locations = _rea(Multi_D_CAC_3,n_regimes=7,L=20,excl_factor=5)\n",
        "\n",
        "print(\"Final\", regime_locations)\n",
        "\n",
        "fig, axs = plt.subplots(2, sharex=True, gridspec_kw={'hspace': 0})\n",
        "axs[0].plot(range(my_data.shape[0]), my_data)\n",
        "axs[0].axvline(x=regime_locations[0], linestyle=\"dashed\")\n",
        "axs[0].axvline(x=regime_locations[1], linestyle=\"dashed\")\n",
        "axs[0].axvline(x=regime_locations[2], linestyle=\"dashed\")\n",
        "axs[0].axvline(x=regime_locations[3], linestyle=\"dashed\")\n",
        "axs[0].axvline(x=regime_locations[4], linestyle=\"dashed\")\n",
        "axs[0].axvline(x=regime_locations[5], linestyle=\"dashed\")\n",
        "#axs[0].axvline(x=regime_locations[6], linestyle=\"dashed\")\n",
        "#axs[0].axvline(x=regime_locations[7], linestyle=\"dashed\")\n",
        "axs[1].plot(range(Multi_D_CAC_3.shape[0]), Multi_D_CAC_3, color='C1')\n",
        "axs[1].axvline(x=regime_locations[0], linestyle=\"dashed\")\n",
        "axs[1].axvline(x=regime_locations[1], linestyle=\"dashed\")\n",
        "axs[1].axvline(x=regime_locations[2], linestyle=\"dashed\")\n",
        "axs[1].axvline(x=regime_locations[3], linestyle=\"dashed\")\n",
        "axs[1].axvline(x=regime_locations[4], linestyle=\"dashed\")\n",
        "axs[1].axvline(x=regime_locations[5], linestyle=\"dashed\")\n",
        "#axs[1].axvline(x=regime_locations[6], linestyle=\"dashed\")\n",
        "#axs[1].axvline(x=regime_locations[7], linestyle=\"dashed\")\n",
        "#axs[1].axvline(x=regime_locations[5], linestyle=\"dashed\")\n",
        "plt.show()"
      ],
      "metadata": {
        "colab": {
          "base_uri": "https://localhost:8080/",
          "height": 408
        },
        "id": "1npB9FRbWNAc",
        "outputId": "526d50d0-50de-4eb3-caac-cfd7b6cce126"
      },
      "execution_count": null,
      "outputs": [
        {
          "output_type": "stream",
          "name": "stdout",
          "text": [
            "0\n",
            "[ 160 1350 1400  100  269  450]\n",
            "1\n",
            "[ 137   83  191 1317  242 1367]\n",
            "2\n",
            "[1351 1195 1285  222  549 1136]\n",
            "3\n",
            "[ 624  685  537 1347 1183  896]\n",
            "Final [1347  191   85 1182  538  638]\n"
          ]
        },
        {
          "output_type": "display_data",
          "data": {
            "text/plain": [
              "<Figure size 432x288 with 2 Axes>"
            ],
            "image/png": "[encoded data removed]"
          },
          "metadata": {
            "needs_background": "light"
          }
        }
      ]
    },
    {
      "cell_type": "markdown",
      "source": [
        "# Experiment chickendance 2 Dataset"
      ],
      "metadata": {
        "id": "-jdaQnrnG05Q"
      }
    },
    {
      "cell_type": "code",
      "source": [
        "#scaler = MinMaxScaler()\n",
        "my_data = chickendance2\n",
        "scaler = StandardScaler()\n",
        "print(scaler.fit(my_data))\n",
        "\n",
        "#print(scaler.transform(data))\n",
        "my_data = scaler.transform(my_data)\n",
        "\n",
        "#df = pd.read_csv(datapath + \"apple.csv\", delimiter=',',index_col=False, usecols=[1, 2] ) "
      ],
      "metadata": {
        "colab": {
          "base_uri": "https://localhost:8080/"
        },
        "id": "3EZFZBYSWweZ",
        "outputId": "f09e77d3-0dc7-4858-adcb-d77347a54b01"
      },
      "execution_count": null,
      "outputs": [
        {
          "output_type": "stream",
          "name": "stdout",
          "text": [
            "StandardScaler()\n"
          ]
        }
      ]
    },
    {
      "cell_type": "code",
      "source": [
        "for col in range(my_data.shape[1]):\n",
        "    mp = stumpy.stump(my_data[:,col], m=20)\n",
        "    cac, regime_locations  = stumpy.fluss(mp[:,1],L=10, n_regimes=7, excl_factor=5)\n",
        "    if col == 0:\n",
        "        mp1 = mp\n",
        "        c1 = cac\n",
        "        r1 = regime_locations\n",
        "        print(col)\n",
        "        #print(cac)\n",
        "        print(regime_locations)\n",
        "    elif col == 1:\n",
        "        mp2 = mp\n",
        "        c2 = cac\n",
        "        r2 = regime_locations\n",
        "        print(col)\n",
        "        #print(cac)\n",
        "        print(regime_locations)\n",
        "    elif col == 2:\n",
        "        mp3 = mp\n",
        "        c3 = cac\n",
        "        r3 = regime_locations\n",
        "        print(col)\n",
        "       #print(cac)\n",
        "        print(regime_locations)\n",
        "    elif col == 3:\n",
        "        mp4 = mp\n",
        "        c4 = cac\n",
        "        r4 = regime_locations\n",
        "        print(col)\n",
        "        #print(cac)\n",
        "        print(regime_locations)\n",
        "\n",
        "#Multi_D_CAC = (c1 + c2 + c3 + c4) / 4;\n",
        "Multi_D_CAC_3 = (c1 + c2 + c3 +c4 ) / 4;\n",
        "#Multi_D_REG = (r1 + r2 + r3 + r4) / 4;\n",
        "#mp_all = (mp1 + mp2 + mp3 + mp4) / 4;    \n",
        "\n",
        "#cac_all, regime_locations_all  = stumpy.fluss(mp_all[:,1],L=30, n_regimes=7, excl_factor=1)\n",
        "\n",
        "regime_locations = _rea(Multi_D_CAC_3,n_regimes=7,L=20,excl_factor=5)\n",
        "\n",
        "print(\"Final\", regime_locations)\n",
        "\n",
        "fig, axs = plt.subplots(2, sharex=True, gridspec_kw={'hspace': 0})\n",
        "axs[0].plot(range(my_data.shape[0]), my_data)\n",
        "axs[0].axvline(x=regime_locations[0], linestyle=\"dashed\")\n",
        "axs[0].axvline(x=regime_locations[1], linestyle=\"dashed\")\n",
        "axs[0].axvline(x=regime_locations[2], linestyle=\"dashed\")\n",
        "axs[0].axvline(x=regime_locations[3], linestyle=\"dashed\")\n",
        "axs[0].axvline(x=regime_locations[4], linestyle=\"dashed\")\n",
        "axs[0].axvline(x=regime_locations[5], linestyle=\"dashed\")\n",
        "#axs[0].axvline(x=regime_locations[6], linestyle=\"dashed\")\n",
        "#axs[0].axvline(x=regime_locations[7], linestyle=\"dashed\")\n",
        "axs[1].plot(range(Multi_D_CAC_3.shape[0]), Multi_D_CAC_3, color='C1')\n",
        "axs[1].axvline(x=regime_locations[0], linestyle=\"dashed\")\n",
        "axs[1].axvline(x=regime_locations[1], linestyle=\"dashed\")\n",
        "axs[1].axvline(x=regime_locations[2], linestyle=\"dashed\")\n",
        "axs[1].axvline(x=regime_locations[3], linestyle=\"dashed\")\n",
        "axs[1].axvline(x=regime_locations[4], linestyle=\"dashed\")\n",
        "axs[1].axvline(x=regime_locations[5], linestyle=\"dashed\")\n",
        "#axs[1].axvline(x=regime_locations[6], linestyle=\"dashed\")\n",
        "#axs[1].axvline(x=regime_locations[7], linestyle=\"dashed\")\n",
        "#axs[1].axvline(x=regime_locations[5], linestyle=\"dashed\")\n",
        "plt.show()"
      ],
      "metadata": {
        "colab": {
          "base_uri": "https://localhost:8080/",
          "height": 407
        },
        "id": "qfJF-cJ0Gz2C",
        "outputId": "e08e2e4d-8c6d-4a9c-ef30-a14ab5730ea8"
      },
      "execution_count": null,
      "outputs": [
        {
          "output_type": "stream",
          "name": "stdout",
          "text": [
            "0\n",
            "[  50  101  151 1199 1140  201 1089]\n",
            "1\n",
            "[1146 1204  159 1095  214  264  314]\n",
            "2\n",
            "[ 277  211   67 1163 1215  327  138]\n",
            "3\n",
            "[1131 1181  308  224  117  173 1080]\n",
            "Final [1144  160   51  264 1043  400    0]\n"
          ]
        },
        {
          "output_type": "display_data",
          "data": {
            "text/plain": [
              "<Figure size 432x288 with 2 Axes>"
            ],
            "image/png": "[encoded data removed]"
          },
          "metadata": {
            "needs_background": "light"
          }
        }
      ]
    },
    {
      "cell_type": "markdown",
      "source": [
        "# Experiment blood Dataset"
      ],
      "metadata": {
        "id": "wFIc_XzNKcwt"
      }
    },
    {
      "cell_type": "code",
      "source": [
        "#scaler = MinMaxScaler()\n",
        "my_data = blood_pig\n",
        "scaler = StandardScaler()\n",
        "print(scaler.fit(my_data))\n",
        "\n",
        "#print(scaler.transform(data))\n",
        "my_data = scaler.transform(my_data)\n",
        "\n",
        "#df = pd.read_csv(datapath + \"apple.csv\", delimiter=',',index_col=False, usecols=[1, 2] ) "
      ],
      "metadata": {
        "colab": {
          "base_uri": "https://localhost:8080/"
        },
        "id": "uDvEnH4TWzn-",
        "outputId": "ad4c19eb-6737-48f8-fd8d-417c4c2c5ccc"
      },
      "execution_count": null,
      "outputs": [
        {
          "output_type": "stream",
          "name": "stdout",
          "text": [
            "StandardScaler()\n"
          ]
        }
      ]
    },
    {
      "cell_type": "code",
      "source": [
        "for col in range(my_data.shape[1]):\n",
        "    mp = stumpy.stump(my_data[:,col], m=100)\n",
        "    cac, regime_locations  = stumpy.fluss(mp[:,1],L=100, n_regimes=2, excl_factor=5)\n",
        "    if col == 0:\n",
        "        mp1 = mp\n",
        "        c1 = cac\n",
        "        r1 = regime_locations\n",
        "        print(col)\n",
        "        #print(cac)\n",
        "        print(regime_locations)\n",
        "    elif col == 1:\n",
        "        mp2 = mp\n",
        "        c2 = cac\n",
        "        r2 = regime_locations\n",
        "        print(col)\n",
        "        #print(cac)\n",
        "        print(regime_locations)\n",
        "    elif col == 2:\n",
        "        mp3 = mp\n",
        "        c3 = cac\n",
        "        r3 = regime_locations\n",
        "        print(col)\n",
        "       #print(cac)\n",
        "        print(regime_locations)\n",
        "    elif col == 3:\n",
        "        mp4 = mp\n",
        "        c4 = cac\n",
        "        r4 = regime_locations\n",
        "        print(col)\n",
        "        #print(cac)\n",
        "        print(regime_locations)\n",
        "\n",
        "#Multi_D_CAC = (c1 + c2 + c3 + c4) / 4;\n",
        "Multi_D_CAC_3 = (c1 + c2 + c3 ) / 3;\n",
        "#Multi_D_REG = (r1 + r2 + r3 + r4) / 4;\n",
        "#mp_all = (mp1 + mp2 + mp3 + mp4) / 4;    \n",
        "\n",
        "#cac_all, regime_locations_all  = stumpy.fluss(mp_all[:,1],L=30, n_regimes=7, excl_factor=1)\n",
        "\n",
        "regime_locations = _rea(Multi_D_CAC_3,n_regimes=2,L=100,excl_factor=5)\n",
        "\n",
        "print(\"Final\", regime_locations)\n",
        "\n",
        "fig, axs = plt.subplots(2, sharex=True, gridspec_kw={'hspace': 0})\n",
        "axs[0].plot(range(my_data.shape[0]), my_data)\n",
        "axs[0].axvline(x=regime_locations[0], linestyle=\"dashed\")\n",
        "#axs[0].axvline(x=regime_locations[1], linestyle=\"dashed\")\n",
        "#axs[0].axvline(x=regime_locations[2], linestyle=\"dashed\")\n",
        "#axs[0].axvline(x=regime_locations[3], linestyle=\"dashed\")\n",
        "#axs[0].axvline(x=regime_locations[4], linestyle=\"dashed\")\n",
        "#axs[0].axvline(x=regime_locations[5], linestyle=\"dashed\")\n",
        "#axs[0].axvline(x=regime_locations[6], linestyle=\"dashed\")\n",
        "#axs[0].axvline(x=regime_locations[7], linestyle=\"dashed\")\n",
        "axs[1].plot(range(Multi_D_CAC_3.shape[0]), Multi_D_CAC_3, color='C1')\n",
        "axs[1].axvline(x=regime_locations[0], linestyle=\"dashed\")\n",
        "#axs[1].axvline(x=regime_locations[1], linestyle=\"dashed\")\n",
        "#axs[1].axvline(x=regime_locations[2], linestyle=\"dashed\")\n",
        "#axs[1].axvline(x=regime_locations[3], linestyle=\"dashed\")\n",
        "#axs[1].axvline(x=regime_locations[4], linestyle=\"dashed\")\n",
        "#axs[1].axvline(x=regime_locations[5], linestyle=\"dashed\")\n",
        "#axs[1].axvline(x=regime_locations[6], linestyle=\"dashed\")\n",
        "#axs[1].axvline(x=regime_locations[7], linestyle=\"dashed\")\n",
        "#axs[1].axvline(x=regime_locations[5], linestyle=\"dashed\")\n",
        "plt.show()"
      ],
      "metadata": {
        "colab": {
          "base_uri": "https://localhost:8080/",
          "height": 380
        },
        "id": "EMhGyF-MWO3a",
        "outputId": "e6547717-27fc-4b7e-c116-94ea74acc00c"
      },
      "execution_count": null,
      "outputs": [
        {
          "output_type": "stream",
          "name": "stdout",
          "text": [
            "0\n",
            "[572]\n",
            "1\n",
            "[7458]\n",
            "2\n",
            "[7403]\n",
            "Final [7445]\n"
          ]
        },
        {
          "output_type": "display_data",
          "data": {
            "text/plain": [
              "<Figure size 432x288 with 2 Axes>"
            ],
            "image/png": "[encoded data removed]"
          },
          "metadata": {
            "needs_background": "light"
          }
        }
      ]
    },
    {
      "cell_type": "markdown",
      "source": [
        "# Experiments syn1 Dataset"
      ],
      "metadata": {
        "id": "II8DQDLfKc7U"
      }
    },
    {
      "cell_type": "code",
      "source": [
        "#scaler = MinMaxScaler()\n",
        "my_data = synthetic_data_1_v2\n",
        "scaler = StandardScaler()\n",
        "print(scaler.fit(my_data))\n",
        "\n",
        "#print(scaler.transform(data))\n",
        "my_data = scaler.transform(my_data)\n",
        "\n",
        "#df = pd.read_csv(datapath + \"apple.csv\", delimiter=',',index_col=False, usecols=[1, 2] ) "
      ],
      "metadata": {
        "colab": {
          "base_uri": "https://localhost:8080/"
        },
        "id": "BpRBrshhW3L9",
        "outputId": "0c34e729-408a-4ef6-8216-f669252fb72d"
      },
      "execution_count": null,
      "outputs": [
        {
          "output_type": "stream",
          "name": "stdout",
          "text": [
            "StandardScaler()\n"
          ]
        }
      ]
    },
    {
      "cell_type": "code",
      "source": [
        "my_data = synthetic_data_2_v2"
      ],
      "metadata": {
        "id": "c-rCStUIP0y4"
      },
      "execution_count": null,
      "outputs": []
    },
    {
      "cell_type": "code",
      "source": [
        "for col in range(my_data.shape[1]):\n",
        "    mp = stumpy.stump(my_data[:,col], m=10)\n",
        "    cac, regime_locations  = stumpy.fluss(mp[:,1],L=10, n_regimes=7, excl_factor=5)\n",
        "    if col == 0:\n",
        "        mp1 = mp\n",
        "        c1 = cac\n",
        "        r1 = regime_locations\n",
        "        print(col)\n",
        "        #print(cac)\n",
        "        print(regime_locations)\n",
        "    elif col == 1:\n",
        "        mp2 = mp\n",
        "        c2 = cac\n",
        "        r2 = regime_locations\n",
        "        print(col)\n",
        "        #print(cac)\n",
        "        print(regime_locations)\n",
        "    elif col == 2:\n",
        "        mp3 = mp\n",
        "        c3 = cac\n",
        "        r3 = regime_locations\n",
        "        print(col)\n",
        "       #print(cac)\n",
        "        print(regime_locations)\n",
        "    elif col == 3:\n",
        "        mp4 = mp\n",
        "        c4 = cac\n",
        "        r4 = regime_locations\n",
        "        print(col)\n",
        "        #print(cac)\n",
        "        print(regime_locations)\n",
        "    elif col == 4:\n",
        "        mp5 = mp\n",
        "        c5 = cac\n",
        "        r5 = regime_locations\n",
        "        print(col)\n",
        "        #print(cac)\n",
        "        print(regime_locations)\n",
        "    elif col == 5:\n",
        "        mp6 = mp\n",
        "        c6 = cac\n",
        "        r6 = regime_locations\n",
        "        print(col)\n",
        "        #print(cac)\n",
        "        print(regime_locations)\n",
        "    elif col == 6:\n",
        "        mp7 = mp\n",
        "        c7 = cac\n",
        "        r7 = regime_locations\n",
        "        print(col)\n",
        "        #print(cac)\n",
        "        print(regime_locations)\n",
        "\n",
        "#Multi_D_CAC = (c1 + c2 + c3 + c4) / 4;\n",
        "Multi_D_CAC_3 = (c1 + c2 +c3 ) / 3;\n",
        "#Multi_D_REG = (r1 + r2 + r3 + r4) / 4;\n",
        "#mp_all = (mp1 + mp2 + mp3 + mp4) / 4;    \n",
        "\n",
        "#cac_all, regime_locations_all  = stumpy.fluss(mp_all[:,1],L=30, n_regimes=7, excl_factor=1)\n",
        "\n",
        "regime_locations = _rea(Multi_D_CAC_3,n_regimes=7,L=30,excl_factor=5)\n",
        "\n",
        "print(\"Final\", regime_locations)\n",
        "\n",
        "fig, axs = plt.subplots(2, sharex=True, gridspec_kw={'hspace': 0})\n",
        "axs[0].plot(range(my_data.shape[0]), my_data)\n",
        "axs[0].axvline(x=regime_locations[0], linestyle=\"dashed\")\n",
        "axs[0].axvline(x=regime_locations[1], linestyle=\"dashed\")\n",
        "axs[0].axvline(x=regime_locations[2], linestyle=\"dashed\")\n",
        "axs[0].axvline(x=regime_locations[3], linestyle=\"dashed\")\n",
        "axs[0].axvline(x=regime_locations[4], linestyle=\"dashed\")\n",
        "axs[0].axvline(x=regime_locations[5], linestyle=\"dashed\")\n",
        "#axs[0].axvline(x=regime_locations[6], linestyle=\"dashed\")\n",
        "#axs[0].axvline(x=regime_locations[7], linestyle=\"dashed\")\n",
        "axs[1].plot(range(Multi_D_CAC_3.shape[0]), Multi_D_CAC_3, color='C1')\n",
        "axs[1].axvline(x=regime_locations[0], linestyle=\"dashed\")\n",
        "axs[1].axvline(x=regime_locations[1], linestyle=\"dashed\")\n",
        "axs[1].axvline(x=regime_locations[2], linestyle=\"dashed\")\n",
        "axs[1].axvline(x=regime_locations[3], linestyle=\"dashed\")\n",
        "axs[1].axvline(x=regime_locations[4], linestyle=\"dashed\")\n",
        "axs[1].axvline(x=regime_locations[5], linestyle=\"dashed\")\n",
        "#axs[1].axvline(x=regime_locations[6], linestyle=\"dashed\")\n",
        "#axs[1].axvline(x=regime_locations[7], linestyle=\"dashed\")\n",
        "#axs[1].axvline(x=regime_locations[5], linestyle=\"dashed\")\n",
        "plt.show()"
      ],
      "metadata": {
        "colab": {
          "base_uri": "https://localhost:8080/",
          "height": 373
        },
        "id": "X8nKRmjHWP9p",
        "outputId": "223b7884-38ea-4f8b-f1bb-6438add2b337"
      },
      "execution_count": null,
      "outputs": [
        {
          "output_type": "stream",
          "name": "stdout",
          "text": [
            "0\n",
            "[1224 1288 1170  339 1080 1339]\n",
            "1\n",
            "[1341 1233 1168 1285  785  733]\n",
            "2\n",
            "[1273 1220 1169  106 1324 1079]\n",
            "Final [1220 1069  339  106  785  616]\n"
          ]
        },
        {
          "output_type": "display_data",
          "data": {
            "text/plain": [
              "<Figure size 432x288 with 2 Axes>"
            ],
            "image/png": "[encoded data removed]"
          },
          "metadata": {
            "needs_background": "light"
          }
        }
      ]
    },
    {
      "cell_type": "markdown",
      "source": [
        "# Experiments syn2 Dataset"
      ],
      "metadata": {
        "id": "K46jZ9w9KdMX"
      }
    },
    {
      "cell_type": "code",
      "source": [
        "#scaler = MinMaxScaler()\n",
        "from sklearn.preprocessing import MinMaxScaler\n",
        "\n",
        "my_data = synthetic_data2\n",
        "scaler = MinMaxScaler(feature_range=(0,1))\n",
        "print(scaler.fit(my_data))\n",
        "\n",
        "#print(scaler.transform(data))\n",
        "my_data = scaler.transform(my_data)\n",
        "\n",
        "#df = pd.read_csv(datapath + \"apple.csv\", delimiter=',',index_col=False, usecols=[1, 2] ) \n",
        "my_data.shape"
      ],
      "metadata": {
        "colab": {
          "base_uri": "https://localhost:8080/"
        },
        "id": "H-4uo2UzW7fh",
        "outputId": "2f71feef-e545-44b5-ac8d-72725706c3d0"
      },
      "execution_count": null,
      "outputs": [
        {
          "output_type": "stream",
          "name": "stdout",
          "text": [
            "MinMaxScaler()\n"
          ]
        },
        {
          "output_type": "execute_result",
          "data": {
            "text/plain": [
              "(1400, 12)"
            ]
          },
          "metadata": {},
          "execution_count": 44
        }
      ]
    },
    {
      "cell_type": "code",
      "source": [
        "for col in range(my_data.shape[1]):\n",
        "    mp = stumpy.stump(my_data[:,col], m=10)\n",
        "    cac, regime_locations  = stumpy.fluss(mp[:,1],L=10, n_regimes=14, excl_factor=5)\n",
        "    if col == 0:\n",
        "        mp1 = mp\n",
        "        c1 = cac\n",
        "        r1 = regime_locations\n",
        "        print(col)\n",
        "        #print(cac)\n",
        "        print(regime_locations)\n",
        "    elif col == 1:\n",
        "        mp2 = mp\n",
        "        c2 = cac\n",
        "        r2 = regime_locations\n",
        "        print(col)\n",
        "        #print(cac)\n",
        "        print(regime_locations)\n",
        "    elif col == 2:\n",
        "        mp3 = mp\n",
        "        c3 = cac\n",
        "        r3 = regime_locations\n",
        "        print(col)\n",
        "       #print(cac)\n",
        "        print(regime_locations)\n",
        "    elif col == 3:\n",
        "        mp4 = mp\n",
        "        c4 = cac\n",
        "        r4 = regime_locations\n",
        "        print(col)\n",
        "        #print(cac)\n",
        "        print(regime_locations)\n",
        "    elif col == 4:\n",
        "        mp5 = mp\n",
        "        c5 = cac\n",
        "        r5 = regime_locations\n",
        "        print(col)\n",
        "        #print(cac)\n",
        "        print(regime_locations)\n",
        "    elif col == 5:\n",
        "        mp6 = mp\n",
        "        c6 = cac\n",
        "        r6 = regime_locations\n",
        "        print(col)\n",
        "        #print(cac)\n",
        "        print(regime_locations)\n",
        "    elif col == 6:\n",
        "        mp7 = mp\n",
        "        c7 = cac\n",
        "        r7 = regime_locations\n",
        "        print(col)\n",
        "        #print(cac)\n",
        "        print(regime_locations)\n",
        "    elif col == 7:\n",
        "        mp8 = mp\n",
        "        c8 = cac\n",
        "        r8 = regime_locations\n",
        "        print(col)\n",
        "        #print(cac)\n",
        "        print(regime_locations)\n",
        "    elif col == 8:\n",
        "        mp9 = mp\n",
        "        c9 = cac\n",
        "        r9 = regime_locations\n",
        "        print(col)\n",
        "        #print(cac)\n",
        "        print(regime_locations)\n",
        "    elif col == 9:\n",
        "        mp10 = mp\n",
        "        c10 = cac\n",
        "        r10 = regime_locations\n",
        "        print(col)\n",
        "       #print(cac)\n",
        "        print(regime_locations)\n",
        "    elif col == 10:\n",
        "        mp11 = mp\n",
        "        c11 = cac\n",
        "        r11 = regime_locations\n",
        "        print(col)\n",
        "        #print(cac)\n",
        "        print(regime_locations)\n",
        "    elif col == 11:\n",
        "        mp12 = mp\n",
        "        c12 = cac\n",
        "        r12 = regime_locations\n",
        "        print(col)\n",
        "        #print(cac)\n",
        "        print(regime_locations)\n",
        "    elif col == 12:\n",
        "        mp13 = mp\n",
        "        c13 = cac\n",
        "        r13 = regime_locations\n",
        "        print(col)\n",
        "        #print(cac)\n",
        "        print(regime_locations)\n",
        "    elif col == 13:\n",
        "        mp14 = mp\n",
        "        c14 = cac\n",
        "        r14 = regime_locations\n",
        "        print(col)\n",
        "        #print(cac)\n",
        "        print(regime_locations)\n",
        "\n",
        "#Multi_D_CAC = (c1 + c2 + c3 + c4) / 4;\n",
        "Multi_D_CAC_3 = (c1 + c2 +c3) / 3;\n",
        "#Multi_D_REG = (r1 + r2 + r3 + r4) / 4;\n",
        "#mp_all = (mp1 + mp2 + mp3 + mp4) / 4;    \n",
        "\n",
        "#cac_all, regime_locations_all  = stumpy.fluss(mp_all[:,1],L=30, n_regimes=7, excl_factor=1)\n",
        "\n",
        "regime_locations = _rea(Multi_D_CAC_3,n_regimes=14,L=10,excl_factor=5)\n",
        "\n",
        "print(\"Final\", regime_locations)\n",
        "\n",
        "fig, axs = plt.subplots(2, sharex=True, gridspec_kw={'hspace': 0})\n",
        "axs[0].plot(range(my_data.shape[0]), my_data)\n",
        "axs[0].axvline(x=regime_locations[0], linestyle=\"dashed\")\n",
        "axs[0].axvline(x=regime_locations[1], linestyle=\"dashed\")\n",
        "axs[0].axvline(x=regime_locations[2], linestyle=\"dashed\")\n",
        "axs[0].axvline(x=regime_locations[3], linestyle=\"dashed\")\n",
        "axs[0].axvline(x=regime_locations[4], linestyle=\"dashed\")\n",
        "axs[0].axvline(x=regime_locations[5], linestyle=\"dashed\")\n",
        "#axs[0].axvline(x=regime_locations[6], linestyle=\"dashed\")\n",
        "#axs[0].axvline(x=regime_locations[7], linestyle=\"dashed\")\n",
        "axs[1].plot(range(Multi_D_CAC_3.shape[0]), Multi_D_CAC_3, color='C1')\n",
        "axs[1].axvline(x=regime_locations[0], linestyle=\"dashed\")\n",
        "axs[1].axvline(x=regime_locations[1], linestyle=\"dashed\")\n",
        "axs[1].axvline(x=regime_locations[2], linestyle=\"dashed\")\n",
        "axs[1].axvline(x=regime_locations[3], linestyle=\"dashed\")\n",
        "axs[1].axvline(x=regime_locations[4], linestyle=\"dashed\")\n",
        "axs[1].axvline(x=regime_locations[5], linestyle=\"dashed\")\n",
        "#axs[1].axvline(x=regime_locations[6], linestyle=\"dashed\")\n",
        "#axs[1].axvline(x=regime_locations[7], linestyle=\"dashed\")\n",
        "#axs[1].axvline(x=regime_locations[5], linestyle=\"dashed\")\n",
        "plt.show()"
      ],
      "metadata": {
        "colab": {
          "base_uri": "https://localhost:8080/",
          "height": 712
        },
        "id": "4g8iHpCyWQ2L",
        "outputId": "15b5cb45-d2bf-457a-c0e8-632005c483ca"
      },
      "execution_count": null,
      "outputs": [
        {
          "output_type": "stream",
          "name": "stdout",
          "text": [
            "0\n",
            "[1340 1232 1167 1284  784  732  836  888  679 1116  628    0    0]\n",
            "1\n",
            "[ 369  426  767  954  317  499  863 1031  603  238  551 1159  689]\n",
            "2\n",
            "[1309  678   69  613 1213  431  744 1038  552  965 1098  895  794]\n",
            "3\n",
            "[ 938  812  706 1038  756 1198  204  868 1127  655  264  152  547]\n",
            "4\n",
            "[1223 1289 1169  338 1079 1340  597  389 1026  269  497  846  647]\n",
            "5\n",
            "[1210   92  148 1318 1267  358 1125  300  205  408  951  737  686]\n",
            "6\n",
            "[ 821  748 1147 1080  871 1298  991  925  697  300  404  511  607]\n",
            "7\n",
            "[1262  685  629 1172  741  111  556  843 1329    0    0    0    0]\n",
            "8\n",
            "[ 125  175  281  225  500  367  422  842 1338    0    0    0    0]\n",
            "9\n",
            "[403 616 553 696 797 746 197 460 310 851   0   0   0]\n",
            "10\n",
            "[1006  687  432 1307 1199  935 1252  530  790  737  879  623  172]\n",
            "11\n",
            "[1272 1219 1168  105 1323 1078 1027  484  662  541  716  611    0]\n",
            "Final [1337 1207 1286  745  690 1156  431  613   69  805  369  863  965]\n"
          ]
        },
        {
          "output_type": "display_data",
          "data": {
            "text/plain": [
              "<Figure size 432x288 with 2 Axes>"
            ],
            "image/png": "[encoded data removed]"
          },
          "metadata": {
            "needs_background": "light"
          }
        }
      ]
    },
    {
      "cell_type": "code",
      "source": [],
      "metadata": {
        "id": "JkQYpWpqSWpD"
      },
      "execution_count": null,
      "outputs": []
    },
    {
      "cell_type": "markdown",
      "source": [],
      "metadata": {
        "id": "3SelyEKiKdb7"
      }
    },
    {
      "cell_type": "markdown",
      "source": [
        "# sonstiges, test"
      ],
      "metadata": {
        "id": "urlZMS3JKdsQ"
      }
    },
    {
      "cell_type": "code",
      "source": [
        "from pandas._libs.lib import count_level_2d\n",
        "import numpy as np\n",
        "\n",
        "arr = c1\n",
        "arr1 = c2\n",
        "arr2 = c3\n",
        "arr3 = c4\n",
        "\n",
        "df = pd.DataFrame(arr, columns = ['c1'])\n",
        "df[\"c2\"] = pd.DataFrame(arr1, columns = ['c2'])\n",
        "df[\"c3\"] = pd.DataFrame(arr2, columns = ['c3'])\n",
        "df[\"c4\"] = pd.DataFrame(arr3, columns = ['c4'])\n",
        "\n",
        "\n",
        "df\n"
      ],
      "metadata": {
        "colab": {
          "base_uri": "https://localhost:8080/",
          "height": 424
        },
        "id": "0TgzsD_MD-jE",
        "outputId": "919df069-07d2-4314-875c-b76d9fd3f28c"
      },
      "execution_count": null,
      "outputs": [
        {
          "output_type": "execute_result",
          "data": {
            "text/plain": [
              "      c1   c2   c3   c4\n",
              "0    1.0  1.0  1.0  1.0\n",
              "1    1.0  1.0  1.0  1.0\n",
              "2    1.0  1.0  1.0  1.0\n",
              "3    1.0  1.0  1.0  1.0\n",
              "4    1.0  1.0  1.0  1.0\n",
              "..   ...  ...  ...  ...\n",
              "991  1.0  1.0  1.0  1.0\n",
              "992  1.0  1.0  1.0  1.0\n",
              "993  1.0  1.0  1.0  1.0\n",
              "994  1.0  1.0  1.0  1.0\n",
              "995  1.0  1.0  1.0  1.0\n",
              "\n",
              "[996 rows x 4 columns]"
            ],
            "text/html": [
              "\n",
              "  <div id=\"df-4520d3f8-3d6b-4e7d-a767-8dc4e5e786f5\">\n",
              "    <div class=\"colab-df-container\">\n",
              "      <div>\n",
              "<style scoped>\n",
              "    .dataframe tbody tr th:only-of-type {\n",
              "        vertical-align: middle;\n",
              "    }\n",
              "\n",
              "    .dataframe tbody tr th {\n",
              "        vertical-align: top;\n",
              "    }\n",
              "\n",
              "    .dataframe thead th {\n",
              "        text-align: right;\n",
              "    }\n",
              "</style>\n",
              "<table border=\"1\" class=\"dataframe\">\n",
              "  <thead>\n",
              "    <tr style=\"text-align: right;\">\n",
              "      <th></th>\n",
              "      <th>c1</th>\n",
              "      <th>c2</th>\n",
              "      <th>c3</th>\n",
              "      <th>c4</th>\n",
              "    </tr>\n",
              "  </thead>\n",
              "  <tbody>\n",
              "    <tr>\n",
              "      <th>0</th>\n",
              "      <td>1.0</td>\n",
              "      <td>1.0</td>\n",
              "      <td>1.0</td>\n",
              "      <td>1.0</td>\n",
              "    </tr>\n",
              "    <tr>\n",
              "      <th>1</th>\n",
              "      <td>1.0</td>\n",
              "      <td>1.0</td>\n",
              "      <td>1.0</td>\n",
              "      <td>1.0</td>\n",
              "    </tr>\n",
              "    <tr>\n",
              "      <th>2</th>\n",
              "      <td>1.0</td>\n",
              "      <td>1.0</td>\n",
              "      <td>1.0</td>\n",
              "      <td>1.0</td>\n",
              "    </tr>\n",
              "    <tr>\n",
              "      <th>3</th>\n",
              "      <td>1.0</td>\n",
              "      <td>1.0</td>\n",
              "      <td>1.0</td>\n",
              "      <td>1.0</td>\n",
              "    </tr>\n",
              "    <tr>\n",
              "      <th>4</th>\n",
              "      <td>1.0</td>\n",
              "      <td>1.0</td>\n",
              "      <td>1.0</td>\n",
              "      <td>1.0</td>\n",
              "    </tr>\n",
              "    <tr>\n",
              "      <th>...</th>\n",
              "      <td>...</td>\n",
              "      <td>...</td>\n",
              "      <td>...</td>\n",
              "      <td>...</td>\n",
              "    </tr>\n",
              "    <tr>\n",
              "      <th>991</th>\n",
              "      <td>1.0</td>\n",
              "      <td>1.0</td>\n",
              "      <td>1.0</td>\n",
              "      <td>1.0</td>\n",
              "    </tr>\n",
              "    <tr>\n",
              "      <th>992</th>\n",
              "      <td>1.0</td>\n",
              "      <td>1.0</td>\n",
              "      <td>1.0</td>\n",
              "      <td>1.0</td>\n",
              "    </tr>\n",
              "    <tr>\n",
              "      <th>993</th>\n",
              "      <td>1.0</td>\n",
              "      <td>1.0</td>\n",
              "      <td>1.0</td>\n",
              "      <td>1.0</td>\n",
              "    </tr>\n",
              "    <tr>\n",
              "      <th>994</th>\n",
              "      <td>1.0</td>\n",
              "      <td>1.0</td>\n",
              "      <td>1.0</td>\n",
              "      <td>1.0</td>\n",
              "    </tr>\n",
              "    <tr>\n",
              "      <th>995</th>\n",
              "      <td>1.0</td>\n",
              "      <td>1.0</td>\n",
              "      <td>1.0</td>\n",
              "      <td>1.0</td>\n",
              "    </tr>\n",
              "  </tbody>\n",
              "</table>\n",
              "<p>996 rows × 4 columns</p>\n",
              "</div>\n",
              "      <button class=\"colab-df-convert\" onclick=\"convertToInteractive('df-4520d3f8-3d6b-4e7d-a767-8dc4e5e786f5')\"\n",
              "              title=\"Convert this dataframe to an interactive table.\"\n",
              "              style=\"display:none;\">\n",
              "        \n",
              "  <svg xmlns=\"http://www.w3.org/2000/svg\" height=\"24px\"viewBox=\"0 0 24 24\"\n",
              "       width=\"24px\">\n",
              "    <path d=\"M0 0h24v24H0V0z\" fill=\"none\"/>\n",
              "    <path d=\"M18.56 5.44l.94 2.06.94-2.06 2.06-.94-2.06-.94-.94-2.06-.94 2.06-2.06.94zm-11 1L8.5 8.5l.94-2.06 2.06-.94-2.06-.94L8.5 2.5l-.94 2.06-2.06.94zm10 10l.94 2.06.94-2.06 2.06-.94-2.06-.94-.94-2.06-.94 2.06-2.06.94z\"/><path d=\"M17.41 7.96l-1.37-1.37c-.4-.4-.92-.59-1.43-.59-.52 0-1.04.2-1.43.59L10.3 9.45l-7.72 7.72c-.78.78-.78 2.05 0 2.83L4 21.41c.39.39.9.59 1.41.59.51 0 1.02-.2 1.41-.59l7.78-7.78 2.81-2.81c.8-.78.8-2.07 0-2.86zM5.41 20L4 18.59l7.72-7.72 1.47 1.35L5.41 20z\"/>\n",
              "  </svg>\n",
              "      </button>\n",
              "      \n",
              "  <style>\n",
              "    .colab-df-container {\n",
              "      display:flex;\n",
              "      flex-wrap:wrap;\n",
              "      gap: 12px;\n",
              "    }\n",
              "\n",
              "    .colab-df-convert {\n",
              "      background-color: #E8F0FE;\n",
              "      border: none;\n",
              "      border-radius: 50%;\n",
              "      cursor: pointer;\n",
              "      display: none;\n",
              "      fill: #1967D2;\n",
              "      height: 32px;\n",
              "      padding: 0 0 0 0;\n",
              "      width: 32px;\n",
              "    }\n",
              "\n",
              "    .colab-df-convert:hover {\n",
              "      background-color: #E2EBFA;\n",
              "      box-shadow: 0px 1px 2px rgba(60, 64, 67, 0.3), 0px 1px 3px 1px rgba(60, 64, 67, 0.15);\n",
              "      fill: #174EA6;\n",
              "    }\n",
              "\n",
              "    [theme=dark] .colab-df-convert {\n",
              "      background-color: #3B4455;\n",
              "      fill: #D2E3FC;\n",
              "    }\n",
              "\n",
              "    [theme=dark] .colab-df-convert:hover {\n",
              "      background-color: #434B5C;\n",
              "      box-shadow: 0px 1px 3px 1px rgba(0, 0, 0, 0.15);\n",
              "      filter: drop-shadow(0px 1px 2px rgba(0, 0, 0, 0.3));\n",
              "      fill: #FFFFFF;\n",
              "    }\n",
              "  </style>\n",
              "\n",
              "      <script>\n",
              "        const buttonEl =\n",
              "          document.querySelector('#df-4520d3f8-3d6b-4e7d-a767-8dc4e5e786f5 button.colab-df-convert');\n",
              "        buttonEl.style.display =\n",
              "          google.colab.kernel.accessAllowed ? 'block' : 'none';\n",
              "\n",
              "        async function convertToInteractive(key) {\n",
              "          const element = document.querySelector('#df-4520d3f8-3d6b-4e7d-a767-8dc4e5e786f5');\n",
              "          const dataTable =\n",
              "            await google.colab.kernel.invokeFunction('convertToInteractive',\n",
              "                                                     [key], {});\n",
              "          if (!dataTable) return;\n",
              "\n",
              "          const docLinkHtml = 'Like what you see? Visit the ' +\n",
              "            '<a target=\"_blank\" href=https://colab.research.google.com/notebooks/data_table.ipynb>data table notebook</a>'\n",
              "            + ' to learn more about interactive tables.';\n",
              "          element.innerHTML = '';\n",
              "          dataTable['output_type'] = 'display_data';\n",
              "          await google.colab.output.renderOutput(dataTable, element);\n",
              "          const docLink = document.createElement('div');\n",
              "          docLink.innerHTML = docLinkHtml;\n",
              "          element.appendChild(docLink);\n",
              "        }\n",
              "      </script>\n",
              "    </div>\n",
              "  </div>\n",
              "  "
            ]
          },
          "metadata": {},
          "execution_count": 62
        }
      ]
    },
    {
      "cell_type": "code",
      "source": [
        "from pathlib import Path  \n",
        "filepath = Path('/content/drive/MyDrive/Masterarbeit/Thesis/Code/out.csv')  \n",
        "filepath.parent.mkdir(parents=True, exist_ok=True)  \n",
        "df.to_csv(filepath)"
      ],
      "metadata": {
        "id": "7WzqJLhCE6aW"
      },
      "execution_count": null,
      "outputs": []
    }
  ]
}